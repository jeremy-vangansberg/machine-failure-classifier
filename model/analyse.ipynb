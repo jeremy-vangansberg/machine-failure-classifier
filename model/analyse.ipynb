{
 "cells": [
  {
   "cell_type": "markdown",
   "metadata": {},
   "source": [
    "# Import library"
   ]
  },
  {
   "cell_type": "code",
   "execution_count": null,
   "metadata": {},
   "outputs": [],
   "source": [
    "import pandas as pd\n",
    "import numpy as np"
   ]
  },
  {
   "cell_type": "code",
   "execution_count": null,
   "metadata": {},
   "outputs": [],
   "source": [
    "df = pd.read_excel(io=\"data/historique_interventions_IA.xlsx\", sheet_name=\"liste inter CATEGORISEES LIGHT\")"
   ]
  },
  {
   "cell_type": "code",
   "execution_count": null,
   "metadata": {},
   "outputs": [],
   "source": [
    "df.info()"
   ]
  },
  {
   "cell_type": "code",
   "execution_count": null,
   "metadata": {},
   "outputs": [],
   "source": [
    "df.columns = [title.lower().replace(\" \", \"_\") for title in df.columns]\n",
    "df.columns"
   ]
  },
  {
   "cell_type": "code",
   "execution_count": null,
   "metadata": {},
   "outputs": [],
   "source": [
    "df['s-ens'].unique()"
   ]
  },
  {
   "cell_type": "code",
   "execution_count": null,
   "metadata": {},
   "outputs": [],
   "source": [
    "df['s-ens'].nunique()"
   ]
  },
  {
   "cell_type": "code",
   "execution_count": null,
   "metadata": {},
   "outputs": [],
   "source": [
    "df['s-ens_cleaned'] = df['s-ens'].str.lower()\n",
    "df = df[['description','s-ens_cleaned']]\n",
    "df.dropna(inplace=True)\n",
    "df.columns = ['description', \"labels\"]"
   ]
  },
  {
   "cell_type": "code",
   "execution_count": null,
   "metadata": {},
   "outputs": [],
   "source": [
    "count = df.groupby('labels').count().reset_index()\n",
    "\n",
    "display(count)"
   ]
  },
  {
   "cell_type": "code",
   "execution_count": null,
   "metadata": {},
   "outputs": [],
   "source": [
    "liste_mots_description = \" \".join(\n",
    "    df[\"description\"].str.lower()\\\n",
    "        .str.replace(\".\",\" \")\\\n",
    "        .str.replace(\",\",\" \")\\\n",
    "        .str.replace(\"(\",\" \")\\\n",
    "        .str.replace(\")\",\" \")\n",
    "    ).split(\" \")\n",
    "len(liste_mots_description)"
   ]
  },
  {
   "cell_type": "code",
   "execution_count": null,
   "metadata": {},
   "outputs": [],
   "source": [
    "set_mots_description = set(liste_mots_description)\n",
    "len(set_mots_description)\n"
   ]
  },
  {
   "cell_type": "code",
   "execution_count": null,
   "metadata": {},
   "outputs": [],
   "source": [
    "dict_mots_description_label = {}\n",
    "for label in df[\"labels\"].unique():\n",
    "    df_temp = df.loc[df[\"labels\"]==label]\n",
    "    dict_mots_description_label[label] = set(\" \".join(\n",
    "    df_temp[\"description\"].str.lower()\\\n",
    "        .str.replace(\".\",\" \")\\\n",
    "        .str.replace(\",\",\" \")\\\n",
    "        .str.replace(\"(\",\" \")\\\n",
    "        .str.replace(\")\",\" \")\n",
    "    ).split(\" \"))\n",
    "    "
   ]
  }
 ],
 "metadata": {
  "kernelspec": {
   "display_name": "nlp_fail",
   "language": "python",
   "name": "python3"
  },
  "language_info": {
   "codemirror_mode": {
    "name": "ipython",
    "version": 3
   },
   "file_extension": ".py",
   "mimetype": "text/x-python",
   "name": "python",
   "nbconvert_exporter": "python",
   "pygments_lexer": "ipython3",
   "version": "3.10.13"
  }
 },
 "nbformat": 4,
 "nbformat_minor": 2
}
