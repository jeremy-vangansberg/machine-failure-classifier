{
 "cells": [
  {
   "cell_type": "code",
   "execution_count": 29,
   "metadata": {},
   "outputs": [],
   "source": [
    "from datetime import datetime\n",
    "import numpy as np\n",
    "import pandas as pd\n",
    "import matplotlib.pyplot as plt\n",
    "\n",
    "from sklearn.model_selection import train_test_split\n",
    "\n",
    "import tensorflow as tf\n",
    "from tensorflow import keras\n",
    "from tensorflow.keras import Sequential\n",
    "from tensorflow.keras.layers import Dense, Dropout, Input, Dropout, Lambda\n",
    "from tensorflow.keras.models import Model\n",
    "from tensorflow.keras.optimizers import Adam\n",
    "from transformers import TFCamembertModel, CamembertTokenizer, CamembertConfig,TFBertModel,CamembertTokenizer, TFCamembertForSequenceClassification\n",
    "\n",
    "tf.random.set_seed(42)\n",
    "np.random.seed(42)"
   ]
  },
  {
   "cell_type": "code",
   "execution_count": 30,
   "metadata": {},
   "outputs": [
    {
     "data": {
      "text/plain": [
       "Index(['description', 'activity_text', 's-ens', 'cat'], dtype='object')"
      ]
     },
     "execution_count": 30,
     "metadata": {},
     "output_type": "execute_result"
    }
   ],
   "source": [
    "df = pd.read_excel(io=\"./data/historique_interventions_IA.xlsx\", sheet_name=\"liste inter CATEGORISEES LIGHT\")\n",
    "df.columns = [title.lower().replace(\" \", \"_\") for title in df.columns]\n",
    "df.columns"
   ]
  },
  {
   "cell_type": "code",
   "execution_count": 31,
   "metadata": {},
   "outputs": [],
   "source": [
    "df['s-ens_cleaned'] = df['s-ens'].str.lower()\n",
    "df = df[['description','s-ens_cleaned']]\n",
    "df.dropna(inplace=True)\n",
    "df.columns = ['description', \"labels\"]"
   ]
  },
  {
   "cell_type": "code",
   "execution_count": 32,
   "metadata": {},
   "outputs": [
    {
     "data": {
      "text/html": [
       "<div>\n",
       "<style scoped>\n",
       "    .dataframe tbody tr th:only-of-type {\n",
       "        vertical-align: middle;\n",
       "    }\n",
       "\n",
       "    .dataframe tbody tr th {\n",
       "        vertical-align: top;\n",
       "    }\n",
       "\n",
       "    .dataframe thead th {\n",
       "        text-align: right;\n",
       "    }\n",
       "</style>\n",
       "<table border=\"1\" class=\"dataframe\">\n",
       "  <thead>\n",
       "    <tr style=\"text-align: right;\">\n",
       "      <th></th>\n",
       "      <th>labels</th>\n",
       "      <th>description</th>\n",
       "    </tr>\n",
       "  </thead>\n",
       "  <tbody>\n",
       "    <tr>\n",
       "      <th>0</th>\n",
       "      <td>autom</td>\n",
       "      <td>13</td>\n",
       "    </tr>\n",
       "    <tr>\n",
       "      <th>1</th>\n",
       "      <td>barre ionisante</td>\n",
       "      <td>3</td>\n",
       "    </tr>\n",
       "    <tr>\n",
       "      <th>2</th>\n",
       "      <td>bi</td>\n",
       "      <td>5</td>\n",
       "    </tr>\n",
       "    <tr>\n",
       "      <th>3</th>\n",
       "      <td>bol bouchon</td>\n",
       "      <td>25</td>\n",
       "    </tr>\n",
       "    <tr>\n",
       "      <th>4</th>\n",
       "      <td>cellules</td>\n",
       "      <td>61</td>\n",
       "    </tr>\n",
       "    <tr>\n",
       "      <th>5</th>\n",
       "      <td>climet</td>\n",
       "      <td>6</td>\n",
       "    </tr>\n",
       "    <tr>\n",
       "      <th>6</th>\n",
       "      <td>communication</td>\n",
       "      <td>18</td>\n",
       "    </tr>\n",
       "    <tr>\n",
       "      <th>7</th>\n",
       "      <td>convoyeur entrée</td>\n",
       "      <td>9</td>\n",
       "    </tr>\n",
       "    <tr>\n",
       "      <th>8</th>\n",
       "      <td>convoyeur principal</td>\n",
       "      <td>30</td>\n",
       "    </tr>\n",
       "    <tr>\n",
       "      <th>9</th>\n",
       "      <td>courroie</td>\n",
       "      <td>1</td>\n",
       "    </tr>\n",
       "    <tr>\n",
       "      <th>10</th>\n",
       "      <td>cuve bouchons</td>\n",
       "      <td>1</td>\n",
       "    </tr>\n",
       "    <tr>\n",
       "      <th>11</th>\n",
       "      <td>etoile entrée</td>\n",
       "      <td>1</td>\n",
       "    </tr>\n",
       "    <tr>\n",
       "      <th>12</th>\n",
       "      <td>ev</td>\n",
       "      <td>5</td>\n",
       "    </tr>\n",
       "    <tr>\n",
       "      <th>13</th>\n",
       "      <td>format</td>\n",
       "      <td>10</td>\n",
       "    </tr>\n",
       "    <tr>\n",
       "      <th>14</th>\n",
       "      <td>hmi</td>\n",
       "      <td>90</td>\n",
       "    </tr>\n",
       "    <tr>\n",
       "      <th>15</th>\n",
       "      <td>ipc</td>\n",
       "      <td>103</td>\n",
       "    </tr>\n",
       "    <tr>\n",
       "      <th>16</th>\n",
       "      <td>jog</td>\n",
       "      <td>4</td>\n",
       "    </tr>\n",
       "    <tr>\n",
       "      <th>17</th>\n",
       "      <td>pesée</td>\n",
       "      <td>9</td>\n",
       "    </tr>\n",
       "    <tr>\n",
       "      <th>18</th>\n",
       "      <td>porte</td>\n",
       "      <td>1</td>\n",
       "    </tr>\n",
       "    <tr>\n",
       "      <th>19</th>\n",
       "      <td>poste bouchonnage</td>\n",
       "      <td>67</td>\n",
       "    </tr>\n",
       "    <tr>\n",
       "      <th>20</th>\n",
       "      <td>poste remplissage</td>\n",
       "      <td>28</td>\n",
       "    </tr>\n",
       "    <tr>\n",
       "      <th>21</th>\n",
       "      <td>roue entrée</td>\n",
       "      <td>8</td>\n",
       "    </tr>\n",
       "    <tr>\n",
       "      <th>22</th>\n",
       "      <td>roue sortie</td>\n",
       "      <td>22</td>\n",
       "    </tr>\n",
       "    <tr>\n",
       "      <th>23</th>\n",
       "      <td>servo commande</td>\n",
       "      <td>11</td>\n",
       "    </tr>\n",
       "    <tr>\n",
       "      <th>24</th>\n",
       "      <td>soufflet</td>\n",
       "      <td>7</td>\n",
       "    </tr>\n",
       "    <tr>\n",
       "      <th>25</th>\n",
       "      <td>table tournante</td>\n",
       "      <td>17</td>\n",
       "    </tr>\n",
       "    <tr>\n",
       "      <th>26</th>\n",
       "      <td>tapis entrée</td>\n",
       "      <td>5</td>\n",
       "    </tr>\n",
       "    <tr>\n",
       "      <th>27</th>\n",
       "      <td>tiroir</td>\n",
       "      <td>2</td>\n",
       "    </tr>\n",
       "    <tr>\n",
       "      <th>28</th>\n",
       "      <td>tremie</td>\n",
       "      <td>12</td>\n",
       "    </tr>\n",
       "    <tr>\n",
       "      <th>29</th>\n",
       "      <td>vis sans fin</td>\n",
       "      <td>24</td>\n",
       "    </tr>\n",
       "  </tbody>\n",
       "</table>\n",
       "</div>"
      ],
      "text/plain": [
       "                  labels  description\n",
       "0                  autom           13\n",
       "1        barre ionisante            3\n",
       "2                     bi            5\n",
       "3            bol bouchon           25\n",
       "4              cellules            61\n",
       "5                 climet            6\n",
       "6          communication           18\n",
       "7       convoyeur entrée            9\n",
       "8   convoyeur principal            30\n",
       "9               courroie            1\n",
       "10         cuve bouchons            1\n",
       "11         etoile entrée            1\n",
       "12                    ev            5\n",
       "13                format           10\n",
       "14                   hmi           90\n",
       "15                   ipc          103\n",
       "16                   jog            4\n",
       "17                 pesée            9\n",
       "18                 porte            1\n",
       "19     poste bouchonnage           67\n",
       "20     poste remplissage           28\n",
       "21           roue entrée            8\n",
       "22          roue sortie            22\n",
       "23        servo commande           11\n",
       "24              soufflet            7\n",
       "25       table tournante           17\n",
       "26          tapis entrée            5\n",
       "27                tiroir            2\n",
       "28               tremie            12\n",
       "29          vis sans fin           24"
      ]
     },
     "metadata": {},
     "output_type": "display_data"
    }
   ],
   "source": [
    "count = df.groupby('labels').count().reset_index()\n",
    "\n",
    "nb_min_to_keep = 10 \n",
    "\n",
    "result = count[count['description'] > nb_min_to_keep]\n",
    "result['labels']\n",
    "nb_targets = result['labels'].nunique()\n",
    "display(count)"
   ]
  },
  {
   "cell_type": "code",
   "execution_count": 33,
   "metadata": {},
   "outputs": [],
   "source": [
    "list_label_to_keep = result['labels'].unique()"
   ]
  },
  {
   "cell_type": "code",
   "execution_count": 34,
   "metadata": {},
   "outputs": [],
   "source": [
    "df = df[df['labels'].isin(list_label_to_keep)]"
   ]
  },
  {
   "cell_type": "code",
   "execution_count": 35,
   "metadata": {},
   "outputs": [],
   "source": [
    "from sklearn.preprocessing import LabelEncoder\n",
    "from sklearn.model_selection import train_test_split\n",
    "import pickle\n",
    "# Création de l'encodeur\n",
    "le = LabelEncoder()\n",
    "nb_targets = df['labels'].nunique()\n",
    "# Entraînement de l'encodeur et transformation des labels\n",
    "df['labels_encoded'] = le.fit_transform(df['labels'])\n",
    "\n",
    "y = df['labels_encoded']\n",
    "\n",
    "\n",
    "filename = './save_model/labelencoder.pkl'\n",
    "pickle.dump(le, open(filename, 'wb'))\n",
    "\n",
    "\n",
    "X_train_nlp, X_test_nlp, y_train_nlp, y_test_nlp = train_test_split(np.array(df['description']), y,\n",
    "                                                   test_size=0.2,\n",
    "                                                   random_state = 0,\n",
    "                                                   stratify=y,\n",
    "                                                   shuffle=True)"
   ]
  },
  {
   "cell_type": "code",
   "execution_count": 113,
   "metadata": {},
   "outputs": [
    {
     "name": "stderr",
     "output_type": "stream",
     "text": [
      "Some layers from the model checkpoint at jplu/tf-camembert-base were not used when initializing TFCamembertModel: ['lm_head']\n",
      "- This IS expected if you are initializing TFCamembertModel from the checkpoint of a model trained on another task or with another architecture (e.g. initializing a BertForSequenceClassification model from a BertForPreTraining model).\n",
      "- This IS NOT expected if you are initializing TFCamembertModel from the checkpoint of a model that you expect to be exactly identical (initializing a BertForSequenceClassification model from a BertForSequenceClassification model).\n",
      "All the layers of TFCamembertModel were initialized from the model checkpoint at jplu/tf-camembert-base.\n",
      "If your task is similar to the task the model of the checkpoint was trained on, you can already use TFCamembertModel for predictions without further training.\n"
     ]
    }
   ],
   "source": [
    "tokenizer = CamembertTokenizer(\"./save_model/tokenizer_model.model\")\n",
    "\n",
    "model = TFCamembertModel.from_pretrained(\"jplu/tf-camembert-base\",num_labels=nb_targets)\n",
    "LONGUEUR_MAX_COMMENTAIRE = df.description.str.len().max()\n",
    "output_tokenizer_entrainement = tokenizer(list(X_train_nlp),max_length=LONGUEUR_MAX_COMMENTAIRE, padding='max_length', truncation=False, return_tensors='tf',add_special_tokens=True)\n",
    "output_tokenizer_tests = tokenizer(list(X_test_nlp),max_length=LONGUEUR_MAX_COMMENTAIRE, padding='max_length', truncation=False, return_tensors='tf',add_special_tokens=True)"
   ]
  },
  {
   "cell_type": "code",
   "execution_count": 37,
   "metadata": {},
   "outputs": [
    {
     "name": "stdout",
     "output_type": "stream",
     "text": [
      "Model: \"model_2\"\n",
      "__________________________________________________________________________________________________\n",
      " Layer (type)                Output Shape                 Param #   Connected to                  \n",
      "==================================================================================================\n",
      " input_token (InputLayer)    [(None, 40)]                 0         []                            \n",
      "                                                                                                  \n",
      " masked_token (InputLayer)   [(None, 40)]                 0         []                            \n",
      "                                                                                                  \n",
      " tf_camembert_model_1 (TFCa  TFBaseModelOutputWithPooli   1106219   ['input_token[0][0]',         \n",
      " membertModel)               ngAndCrossAttentions(last_   52         'masked_token[0][0]']        \n",
      "                             hidden_state=(None, 40, 76                                           \n",
      "                             8),                                                                  \n",
      "                              pooler_output=(None, 768)                                           \n",
      "                             , past_key_values=None, hi                                           \n",
      "                             dden_states=None, attentio                                           \n",
      "                             ns=None, cross_attentions=                                           \n",
      "                             None)                                                                \n",
      "                                                                                                  \n",
      "==================================================================================================\n",
      "Total params: 110621952 (421.99 MB)\n",
      "Trainable params: 0 (0.00 Byte)\n",
      "Non-trainable params: 110621952 (421.99 MB)\n",
      "__________________________________________________________________________________________________\n"
     ]
    }
   ],
   "source": [
    "entrees_ids = tf.keras.layers.Input(shape=(LONGUEUR_MAX_COMMENTAIRE,), name='input_token', dtype='int32')\n",
    "entrees_masks = tf.keras.layers.Input(shape=(LONGUEUR_MAX_COMMENTAIRE,), name='masked_token', dtype='int32')\n",
    "sortie_camemBERT = model([entrees_ids,entrees_masks])\n",
    "\n",
    "# Instanciation du modèle avec Keras\n",
    "model_camemBERT = tf.keras.Model(inputs=[entrees_ids, entrees_masks], outputs = sortie_camemBERT,trainable=False)\n",
    "model_camemBERT.summary()"
   ]
  },
  {
   "cell_type": "code",
   "execution_count": 38,
   "metadata": {},
   "outputs": [
    {
     "name": "stdout",
     "output_type": "stream",
     "text": [
      "Model: \"model_3\"\n",
      "__________________________________________________________________________________________________\n",
      " Layer (type)                Output Shape                 Param #   Connected to                  \n",
      "==================================================================================================\n",
      " input_token (InputLayer)    [(None, 40)]                 0         []                            \n",
      "                                                                                                  \n",
      " masked_token (InputLayer)   [(None, 40)]                 0         []                            \n",
      "                                                                                                  \n",
      " tf_camembert_model_1 (TFCa  TFBaseModelOutputWithPooli   1106219   ['input_token[0][0]',         \n",
      " membertModel)               ngAndCrossAttentions(last_   52         'masked_token[0][0]']        \n",
      "                             hidden_state=(None, 40, 76                                           \n",
      "                             8),                                                                  \n",
      "                              pooler_output=(None, 768)                                           \n",
      "                             , past_key_values=None, hi                                           \n",
      "                             dden_states=None, attentio                                           \n",
      "                             ns=None, cross_attentions=                                           \n",
      "                             None)                                                                \n",
      "                                                                                                  \n",
      " dense_1 (Dense)             (None, 14)                   10766     ['tf_camembert_model_1[0][1]']\n",
      "                                                                                                  \n",
      "==================================================================================================\n",
      "Total params: 110632718 (422.03 MB)\n",
      "Trainable params: 10766 (42.05 KB)\n",
      "Non-trainable params: 110621952 (421.99 MB)\n",
      "__________________________________________________________________________________________________\n"
     ]
    }
   ],
   "source": [
    "output = Dense(nb_targets, activation='softmax')(sortie_camemBERT[1])  # Use pooled representation\n",
    "model = tf.keras.Model(inputs=[entrees_ids, entrees_masks], outputs=output)\n",
    "model.layers[2].trainable = False  # Disable training of CamemBERT\n",
    "\n",
    "model.compile(loss='sparse_categorical_crossentropy', optimizer=Adam(1e-2), metrics=['accuracy'])\n",
    "model.summary()"
   ]
  },
  {
   "cell_type": "code",
   "execution_count": 39,
   "metadata": {},
   "outputs": [
    {
     "name": "stdout",
     "output_type": "stream",
     "text": [
      "Epoch 1/10\n",
      "208/208 [==============================] - 43s 173ms/step - loss: 2.5402 - accuracy: 0.2067 - val_loss: 2.6013 - val_accuracy: 0.2095\n",
      "Epoch 2/10\n",
      "208/208 [==============================] - 31s 148ms/step - loss: 2.2285 - accuracy: 0.3173 - val_loss: 2.3557 - val_accuracy: 0.1333\n",
      "Epoch 3/10\n",
      "208/208 [==============================] - 31s 148ms/step - loss: 1.9954 - accuracy: 0.3462 - val_loss: 2.1693 - val_accuracy: 0.3619\n",
      "Epoch 4/10\n",
      "208/208 [==============================] - 31s 151ms/step - loss: 1.9212 - accuracy: 0.3942 - val_loss: 2.0504 - val_accuracy: 0.3143\n",
      "Epoch 5/10\n",
      "208/208 [==============================] - 31s 150ms/step - loss: 1.7140 - accuracy: 0.4447 - val_loss: 1.9385 - val_accuracy: 0.4762\n",
      "Epoch 6/10\n",
      "208/208 [==============================] - 31s 149ms/step - loss: 1.6560 - accuracy: 0.5216 - val_loss: 1.7659 - val_accuracy: 0.5143\n",
      "Epoch 7/10\n",
      "208/208 [==============================] - 31s 149ms/step - loss: 1.5709 - accuracy: 0.5120 - val_loss: 1.8299 - val_accuracy: 0.4095\n",
      "Epoch 8/10\n",
      "208/208 [==============================] - 31s 147ms/step - loss: 1.4940 - accuracy: 0.5288 - val_loss: 1.7544 - val_accuracy: 0.4952\n",
      "Epoch 9/10\n",
      "208/208 [==============================] - 31s 148ms/step - loss: 1.4859 - accuracy: 0.5288 - val_loss: 1.8965 - val_accuracy: 0.4381\n",
      "Epoch 10/10\n",
      "208/208 [==============================] - 31s 149ms/step - loss: 1.4181 - accuracy: 0.5673 - val_loss: 1.9310 - val_accuracy: 0.4286\n"
     ]
    }
   ],
   "source": [
    "early = keras.callbacks.EarlyStopping(monitor='val_loss', patience=5, restore_best_weights=True)\n",
    "history = model.fit([output_tokenizer_entrainement['input_ids'],output_tokenizer_entrainement['attention_mask']],y_train_nlp,\n",
    "                    epochs=10, verbose=1, batch_size = 2,callbacks=[early], workers=-1, \n",
    "                    validation_data=([output_tokenizer_tests['input_ids'],output_tokenizer_tests['attention_mask']],y_test_nlp))"
   ]
  },
  {
   "cell_type": "code",
   "execution_count": 40,
   "metadata": {},
   "outputs": [
    {
     "data": {
      "image/png": "[encoded data removed]",
      "text/plain": [
       "<Figure size 640x480 with 1 Axes>"
      ]
     },
     "metadata": {},
     "output_type": "display_data"
    }
   ],
   "source": [
    "plt.plot(history.history['accuracy'])\n",
    "plt.plot(history.history['val_accuracy'])\n",
    "plt.title('Précision du modèle')\n",
    "plt.ylabel('Précision')\n",
    "plt.xlabel('Itération')\n",
    "plt.legend(['Entrainement', 'Test'], loc='upper left')\n",
    "plt.show()"
   ]
  },
  {
   "cell_type": "code",
   "execution_count": 41,
   "metadata": {},
   "outputs": [
    {
     "name": "stdout",
     "output_type": "stream",
     "text": [
      "Model: \"model_3\"\n",
      "__________________________________________________________________________________________________\n",
      " Layer (type)                Output Shape                 Param #   Connected to                  \n",
      "==================================================================================================\n",
      " input_token (InputLayer)    [(None, 40)]                 0         []                            \n",
      "                                                                                                  \n",
      " masked_token (InputLayer)   [(None, 40)]                 0         []                            \n",
      "                                                                                                  \n",
      " tf_camembert_model_1 (TFCa  TFBaseModelOutputWithPooli   1106219   ['input_token[0][0]',         \n",
      " membertModel)               ngAndCrossAttentions(last_   52         'masked_token[0][0]']        \n",
      "                             hidden_state=(None, 40, 76                                           \n",
      "                             8),                                                                  \n",
      "                              pooler_output=(None, 768)                                           \n",
      "                             , past_key_values=None, hi                                           \n",
      "                             dden_states=None, attentio                                           \n",
      "                             ns=None, cross_attentions=                                           \n",
      "                             None)                                                                \n",
      "                                                                                                  \n",
      " dense_1 (Dense)             (None, 14)                   10766     ['tf_camembert_model_1[0][1]']\n",
      "                                                                                                  \n"
     ]
    },
    {
     "name": "stdout",
     "output_type": "stream",
     "text": [
      "==================================================================================================\n",
      "Total params: 110632718 (422.03 MB)\n",
      "Trainable params: 110632718 (422.03 MB)\n",
      "Non-trainable params: 0 (0.00 Byte)\n",
      "__________________________________________________________________________________________________\n"
     ]
    }
   ],
   "source": [
    "model.layers[2].trainable = True\n",
    "model.compile(loss='sparse_categorical_crossentropy', optimizer=Adam(1e-4), metrics=['accuracy'])\n",
    "model.summary()"
   ]
  },
  {
   "cell_type": "code",
   "execution_count": 42,
   "metadata": {},
   "outputs": [
    {
     "name": "stdout",
     "output_type": "stream",
     "text": [
      "Epoch 1/20\n",
      "52/52 [==============================] - 127s 2s/step - loss: 2.0816 - accuracy: 0.4760 - val_loss: 1.9417 - val_accuracy: 0.5333\n",
      "Epoch 2/20\n",
      "52/52 [==============================] - 104s 2s/step - loss: 0.6478 - accuracy: 0.8197 - val_loss: 1.5311 - val_accuracy: 0.6571\n",
      "Epoch 3/20\n",
      "52/52 [==============================] - 98s 2s/step - loss: 0.4005 - accuracy: 0.8942 - val_loss: 1.4666 - val_accuracy: 0.7238\n",
      "Epoch 4/20\n",
      "52/52 [==============================] - 111s 2s/step - loss: 0.1960 - accuracy: 0.9447 - val_loss: 1.4818 - val_accuracy: 0.6952\n",
      "Epoch 5/20\n",
      "52/52 [==============================] - 102s 2s/step - loss: 0.1424 - accuracy: 0.9639 - val_loss: 1.7413 - val_accuracy: 0.7048\n",
      "Epoch 6/20\n",
      "52/52 [==============================] - 94s 2s/step - loss: 0.1024 - accuracy: 0.9712 - val_loss: 1.8753 - val_accuracy: 0.7048\n",
      "Epoch 7/20\n",
      "52/52 [==============================] - 100s 2s/step - loss: 0.0529 - accuracy: 0.9856 - val_loss: 1.8502 - val_accuracy: 0.7143\n",
      "Epoch 8/20\n",
      "52/52 [==============================] - 96s 2s/step - loss: 0.0415 - accuracy: 0.9904 - val_loss: 1.9107 - val_accuracy: 0.7143\n"
     ]
    }
   ],
   "source": [
    "history = model.fit([output_tokenizer_entrainement['input_ids'],output_tokenizer_entrainement['attention_mask']],y_train_nlp,\n",
    "                    epochs=20, verbose=1, batch_size = 8,callbacks=[early], workers=-1, use_multiprocessing=False,\n",
    "                    validation_data=([output_tokenizer_tests['input_ids'],output_tokenizer_tests['attention_mask']],y_test_nlp))"
   ]
  },
  {
   "cell_type": "code",
   "execution_count": 43,
   "metadata": {},
   "outputs": [
    {
     "data": {
      "image/png": "[encoded data removed]",
      "text/plain": [
       "<Figure size 640x480 with 1 Axes>"
      ]
     },
     "metadata": {},
     "output_type": "display_data"
    }
   ],
   "source": [
    "plt.plot(history.history['accuracy'])\n",
    "plt.plot(history.history['val_accuracy'])\n",
    "plt.title('Précision du modèle')\n",
    "plt.ylabel('Précision')\n",
    "plt.xlabel('Itération')\n",
    "plt.legend(['Entrainement', 'Test'], loc='upper left')\n",
    "plt.show()"
   ]
  },
  {
   "cell_type": "code",
   "execution_count": 108,
   "metadata": {},
   "outputs": [],
   "source": [
    "with open(\"./save_model/labelencoder.pkl\",\"rb\") as file:\n",
    "    le =pickle.load(file)"
   ]
  },
  {
   "cell_type": "code",
   "execution_count": 109,
   "metadata": {},
   "outputs": [],
   "source": [
    "def encode_texts(texts, tokenizer, max_seq_length):\n",
    "    input_ids = []\n",
    "\n",
    "    encoded = tokenizer(texts,max_length=max_seq_length, padding='max_length', truncation=False, return_tensors='tf',add_special_tokens=True)\n",
    "    input_ids.append([encoded[\"input_ids\"],encoded[\"attention_mask\"]])\n",
    "    return input_ids\n",
    "\n",
    "def prediction(model, max_seq_length, *args) :\n",
    "    texts = list(*args)\n",
    "    to_test = encode_texts(texts=texts, tokenizer=tokenizer, max_seq_length=max_seq_length)\n",
    "    proba = model.predict(*to_test)\n",
    "    indexes = np.argmax(proba, axis=1)\n",
    "    return le.inverse_transform(indexes)"
   ]
  },
  {
   "cell_type": "code",
   "execution_count": 110,
   "metadata": {},
   "outputs": [
    {
     "name": "stdout",
     "output_type": "stream",
     "text": [
      "1/1 [==============================] - 0s 186ms/step\n"
     ]
    },
    {
     "data": {
      "text/plain": [
       "array(['hmi', 'hmi', 'communication'], dtype=object)"
      ]
     },
     "execution_count": 110,
     "metadata": {},
     "output_type": "execute_result"
    }
   ],
   "source": [
    "text_test = 'Défaut de com HMI IPC.'\n",
    "test1 = 'Ecran IPC'\n",
    "test2 = 'defaut communication sur hmi ipc'\n",
    "prediction(model, LONGUEUR_MAX_COMMENTAIRE,[text_test,test1,test2])"
   ]
  },
  {
   "cell_type": "code",
   "execution_count": 57,
   "metadata": {},
   "outputs": [
    {
     "name": "stdout",
     "output_type": "stream",
     "text": [
      "4/4 [==============================] - 4s 917ms/step\n"
     ]
    },
    {
     "data": {
      "text/plain": [
       "array([ 6,  7, 11,  7,  7,  5, 13,  5,  7,  6,  4,  4,  6,  6,  6, 13,  6,\n",
       "       12,  5,  4,  6,  4,  5,  2,  4,  5,  5,  4,  5,  7,  6,  2,  6,  5,\n",
       "        5,  6,  8,  6,  9,  6,  4,  6, 11,  6,  5,  9,  8,  2,  1, 10,  8,\n",
       "        4,  5,  7,  7,  7,  3,  7,  6,  8,  6, 13, 13,  1,  5,  4,  7,  8,\n",
       "        7,  6,  6, 13,  6,  5,  5,  3,  5,  7,  4,  2,  2,  7,  1,  9,  4,\n",
       "       13,  1,  4,  4,  5,  2,  8,  5,  4, 11, 13,  5,  6,  6, 13,  4,  4,\n",
       "        2,  7,  0])"
      ]
     },
     "execution_count": 57,
     "metadata": {},
     "output_type": "execute_result"
    }
   ],
   "source": [
    "le.transform(prediction(model, LONGUEUR_MAX_COMMENTAIRE,X_test_nlp))"
   ]
  },
  {
   "cell_type": "code",
   "execution_count": 62,
   "metadata": {},
   "outputs": [
    {
     "data": {
      "text/plain": [
       "array([ 6,  7, 11,  7,  7,  5, 13,  7,  7,  6,  4,  4,  5,  6,  6, 13,  6,\n",
       "        0,  5,  0,  6,  7,  5,  8,  5,  5,  5,  8,  5,  2,  6,  2,  6,  5,\n",
       "        5,  3,  8,  6,  9,  6,  6,  6, 11,  6,  5,  9,  2,  2,  1, 10,  8,\n",
       "        4,  5,  7,  7,  7,  3,  2,  6, 10,  6,  9, 12,  1,  5,  4,  7,  2,\n",
       "        7,  6,  6,  2,  6,  5,  3,  3,  5,  7,  4,  2,  2,  7,  1, 13,  4,\n",
       "        9,  1,  2,  8,  7,  6,  8,  5, 12, 11, 13,  5,  6,  6, 13,  5,  1,\n",
       "        2,  2,  0])"
      ]
     },
     "execution_count": 62,
     "metadata": {},
     "output_type": "execute_result"
    }
   ],
   "source": [
    "y_test_nlp.to_numpy()"
   ]
  },
  {
   "cell_type": "code",
   "execution_count": 74,
   "metadata": {},
   "outputs": [
    {
     "name": "stdout",
     "output_type": "stream",
     "text": [
      "4/4 [==============================] - 4s 924ms/step\n"
     ]
    },
    {
     "data": {
      "text/plain": [
       "array([1.7142857, 1.75     , 1.8333334, 1.75     , 1.75     , 1.6666666,\n",
       "       1.8571428, 1.75     , 1.75     , 1.7142857, 1.6      , 1.6      ,\n",
       "       1.6666666, 1.7142857, 1.7142857, 1.8571428, 1.7142857, 0.       ,\n",
       "       1.6666666, 0.       , 1.7142857, 1.75     , 1.6666666, 1.7777778,\n",
       "       1.6666666, 1.6666666, 1.6666666, 1.7777778, 1.6666666, 1.3333334,\n",
       "       1.7142857, 1.3333334, 1.7142857, 1.6666666, 1.6666666, 1.5      ,\n",
       "       1.7777778, 1.7142857, 1.8      , 1.7142857, 1.7142857, 1.7142857,\n",
       "       1.8333334, 1.7142857, 1.6666666, 1.8      , 1.3333334, 1.3333334,\n",
       "       1.       , 1.8181819, 1.7777778, 1.6      , 1.6666666, 1.75     ,\n",
       "       1.75     , 1.75     , 1.5      , 1.3333334, 1.7142857, 1.8181819,\n",
       "       1.7142857, 1.8      , 1.8461539, 1.       , 1.6666666, 1.6      ,\n",
       "       1.75     , 1.3333334, 1.75     , 1.7142857, 1.7142857, 1.3333334,\n",
       "       1.7142857, 1.6666666, 1.5      , 1.5      , 1.6666666, 1.75     ,\n",
       "       1.6      , 1.3333334, 1.3333334, 1.75     , 1.       , 1.8571428,\n",
       "       1.6      , 1.8      , 1.       , 1.3333334, 1.7777778, 1.75     ,\n",
       "       1.7142857, 1.7777778, 1.6666666, 1.8461539, 1.8333334, 1.8571428,\n",
       "       1.6666666, 1.7142857, 1.7142857, 1.8571428, 1.6666666, 1.       ,\n",
       "       1.3333334, 1.3333334, 0.       ], dtype=float32)"
      ]
     },
     "execution_count": 74,
     "metadata": {},
     "output_type": "execute_result"
    }
   ],
   "source": [
    "metric = tf.keras.metrics.F1Score(threshold=0.5)\n",
    "\n",
    "metric.update_state(y_test_nlp.to_numpy().reshape(1,-1), le.transform(prediction(model, LONGUEUR_MAX_COMMENTAIRE,X_test_nlp)).reshape(1,-1))\n",
    "result = metric.result()\n",
    "result.numpy()\n"
   ]
  },
  {
   "cell_type": "code",
   "execution_count": 104,
   "metadata": {},
   "outputs": [
    {
     "data": {
      "text/plain": [
       "array([[ 6,  7, 11,  7,  7,  5, 13,  7,  7,  6,  4,  4,  5,  6,  6, 13,\n",
       "         6,  0,  5,  0,  6,  7,  5,  8,  5,  5,  5,  8,  5,  2,  6,  2,\n",
       "         6,  5,  5,  3,  8,  6,  9,  6,  6,  6, 11,  6,  5,  9,  2,  2,\n",
       "         1, 10,  8,  4,  5,  7,  7,  7,  3,  2,  6, 10,  6,  9, 12,  1,\n",
       "         5,  4,  7,  2,  7,  6,  6,  2,  6,  5,  3,  3,  5,  7,  4,  2,\n",
       "         2,  7,  1, 13,  4,  9,  1,  2,  8,  7,  6,  8,  5, 12, 11, 13,\n",
       "         5,  6,  6, 13,  5,  1,  2,  2,  0]])"
      ]
     },
     "execution_count": 104,
     "metadata": {},
     "output_type": "execute_result"
    }
   ],
   "source": [
    "y_true"
   ]
  },
  {
   "cell_type": "code",
   "execution_count": 103,
   "metadata": {},
   "outputs": [
    {
     "name": "stdout",
     "output_type": "stream",
     "text": [
      "4/4 [==============================] - 4s 901ms/step\n"
     ]
    },
    {
     "ename": "ValueError",
     "evalue": "Mix of label input types (string and number)",
     "output_type": "error",
     "traceback": [
      "\u001b[0;31m---------------------------------------------------------------------------\u001b[0m",
      "\u001b[0;31mValueError\u001b[0m                                Traceback (most recent call last)",
      "\u001b[1;32m/home/apprenant/Bureau/machine-failure-classier/model/model.ipynb Cellule 21\u001b[0m line \u001b[0;36m1\n\u001b[1;32m      <a href='vscode-notebook-cell:/home/apprenant/Bureau/machine-failure-classier/model/model.ipynb#X62sZmlsZQ%3D%3D?line=5'>6</a>\u001b[0m y_pred \u001b[39m=\u001b[39m prediction(model, LONGUEUR_MAX_COMMENTAIRE,X_test_nlp)\u001b[39m.\u001b[39mreshape(\u001b[39m1\u001b[39m,\u001b[39m-\u001b[39m\u001b[39m1\u001b[39m)\n\u001b[1;32m      <a href='vscode-notebook-cell:/home/apprenant/Bureau/machine-failure-classier/model/model.ipynb#X62sZmlsZQ%3D%3D?line=8'>9</a>\u001b[0m \u001b[39m# Flatten the multi-label data for f1_score calculation\u001b[39;00m\n\u001b[0;32m---> <a href='vscode-notebook-cell:/home/apprenant/Bureau/machine-failure-classier/model/model.ipynb#X62sZmlsZQ%3D%3D?line=9'>10</a>\u001b[0m f1 \u001b[39m=\u001b[39m f1_score(y_true\u001b[39m.\u001b[39;49mravel(), y_pred\u001b[39m.\u001b[39;49mravel(), average\u001b[39m=\u001b[39;49m\u001b[39m'\u001b[39;49m\u001b[39mmacro\u001b[39;49m\u001b[39m'\u001b[39;49m)\n\u001b[1;32m     <a href='vscode-notebook-cell:/home/apprenant/Bureau/machine-failure-classier/model/model.ipynb#X62sZmlsZQ%3D%3D?line=11'>12</a>\u001b[0m \u001b[39mprint\u001b[39m(\u001b[39m\"\u001b[39m\u001b[39mMacro F1 Score (Multi-label):\u001b[39m\u001b[39m\"\u001b[39m, f1)\n",
      "File \u001b[0;32m~/miniconda3/envs/nlp_fail/lib/python3.10/site-packages/sklearn/utils/_param_validation.py:214\u001b[0m, in \u001b[0;36mvalidate_params.<locals>.decorator.<locals>.wrapper\u001b[0;34m(*args, **kwargs)\u001b[0m\n\u001b[1;32m    208\u001b[0m \u001b[39mtry\u001b[39;00m:\n\u001b[1;32m    209\u001b[0m     \u001b[39mwith\u001b[39;00m config_context(\n\u001b[1;32m    210\u001b[0m         skip_parameter_validation\u001b[39m=\u001b[39m(\n\u001b[1;32m    211\u001b[0m             prefer_skip_nested_validation \u001b[39mor\u001b[39;00m global_skip_validation\n\u001b[1;32m    212\u001b[0m         )\n\u001b[1;32m    213\u001b[0m     ):\n\u001b[0;32m--> 214\u001b[0m         \u001b[39mreturn\u001b[39;00m func(\u001b[39m*\u001b[39;49margs, \u001b[39m*\u001b[39;49m\u001b[39m*\u001b[39;49mkwargs)\n\u001b[1;32m    215\u001b[0m \u001b[39mexcept\u001b[39;00m InvalidParameterError \u001b[39mas\u001b[39;00m e:\n\u001b[1;32m    216\u001b[0m     \u001b[39m# When the function is just a wrapper around an estimator, we allow\u001b[39;00m\n\u001b[1;32m    217\u001b[0m     \u001b[39m# the function to delegate validation to the estimator, but we replace\u001b[39;00m\n\u001b[1;32m    218\u001b[0m     \u001b[39m# the name of the estimator by the name of the function in the error\u001b[39;00m\n\u001b[1;32m    219\u001b[0m     \u001b[39m# message to avoid confusion.\u001b[39;00m\n\u001b[1;32m    220\u001b[0m     msg \u001b[39m=\u001b[39m re\u001b[39m.\u001b[39msub(\n\u001b[1;32m    221\u001b[0m         \u001b[39mr\u001b[39m\u001b[39m\"\u001b[39m\u001b[39mparameter of \u001b[39m\u001b[39m\\\u001b[39m\u001b[39mw+ must be\u001b[39m\u001b[39m\"\u001b[39m,\n\u001b[1;32m    222\u001b[0m         \u001b[39mf\u001b[39m\u001b[39m\"\u001b[39m\u001b[39mparameter of \u001b[39m\u001b[39m{\u001b[39;00mfunc\u001b[39m.\u001b[39m\u001b[39m__qualname__\u001b[39m\u001b[39m}\u001b[39;00m\u001b[39m must be\u001b[39m\u001b[39m\"\u001b[39m,\n\u001b[1;32m    223\u001b[0m         \u001b[39mstr\u001b[39m(e),\n\u001b[1;32m    224\u001b[0m     )\n",
      "File \u001b[0;32m~/miniconda3/envs/nlp_fail/lib/python3.10/site-packages/sklearn/metrics/_classification.py:1239\u001b[0m, in \u001b[0;36mf1_score\u001b[0;34m(y_true, y_pred, labels, pos_label, average, sample_weight, zero_division)\u001b[0m\n\u001b[1;32m   1070\u001b[0m \u001b[39m@validate_params\u001b[39m(\n\u001b[1;32m   1071\u001b[0m     {\n\u001b[1;32m   1072\u001b[0m         \u001b[39m\"\u001b[39m\u001b[39my_true\u001b[39m\u001b[39m\"\u001b[39m: [\u001b[39m\"\u001b[39m\u001b[39marray-like\u001b[39m\u001b[39m\"\u001b[39m, \u001b[39m\"\u001b[39m\u001b[39msparse matrix\u001b[39m\u001b[39m\"\u001b[39m],\n\u001b[0;32m   (...)\u001b[0m\n\u001b[1;32m   1097\u001b[0m     zero_division\u001b[39m=\u001b[39m\u001b[39m\"\u001b[39m\u001b[39mwarn\u001b[39m\u001b[39m\"\u001b[39m,\n\u001b[1;32m   1098\u001b[0m ):\n\u001b[1;32m   1099\u001b[0m \u001b[39m    \u001b[39m\u001b[39m\"\"\"Compute the F1 score, also known as balanced F-score or F-measure.\u001b[39;00m\n\u001b[1;32m   1100\u001b[0m \n\u001b[1;32m   1101\u001b[0m \u001b[39m    The F1 score can be interpreted as a harmonic mean of the precision and\u001b[39;00m\n\u001b[0;32m   (...)\u001b[0m\n\u001b[1;32m   1237\u001b[0m \u001b[39m    array([0.66666667, 1.        , 0.66666667])\u001b[39;00m\n\u001b[1;32m   1238\u001b[0m \u001b[39m    \"\"\"\u001b[39;00m\n\u001b[0;32m-> 1239\u001b[0m     \u001b[39mreturn\u001b[39;00m fbeta_score(\n\u001b[1;32m   1240\u001b[0m         y_true,\n\u001b[1;32m   1241\u001b[0m         y_pred,\n\u001b[1;32m   1242\u001b[0m         beta\u001b[39m=\u001b[39;49m\u001b[39m1\u001b[39;49m,\n\u001b[1;32m   1243\u001b[0m         labels\u001b[39m=\u001b[39;49mlabels,\n\u001b[1;32m   1244\u001b[0m         pos_label\u001b[39m=\u001b[39;49mpos_label,\n\u001b[1;32m   1245\u001b[0m         average\u001b[39m=\u001b[39;49maverage,\n\u001b[1;32m   1246\u001b[0m         sample_weight\u001b[39m=\u001b[39;49msample_weight,\n\u001b[1;32m   1247\u001b[0m         zero_division\u001b[39m=\u001b[39;49mzero_division,\n\u001b[1;32m   1248\u001b[0m     )\n",
      "File \u001b[0;32m~/miniconda3/envs/nlp_fail/lib/python3.10/site-packages/sklearn/utils/_param_validation.py:187\u001b[0m, in \u001b[0;36mvalidate_params.<locals>.decorator.<locals>.wrapper\u001b[0;34m(*args, **kwargs)\u001b[0m\n\u001b[1;32m    185\u001b[0m global_skip_validation \u001b[39m=\u001b[39m get_config()[\u001b[39m\"\u001b[39m\u001b[39mskip_parameter_validation\u001b[39m\u001b[39m\"\u001b[39m]\n\u001b[1;32m    186\u001b[0m \u001b[39mif\u001b[39;00m global_skip_validation:\n\u001b[0;32m--> 187\u001b[0m     \u001b[39mreturn\u001b[39;00m func(\u001b[39m*\u001b[39;49margs, \u001b[39m*\u001b[39;49m\u001b[39m*\u001b[39;49mkwargs)\n\u001b[1;32m    189\u001b[0m func_sig \u001b[39m=\u001b[39m signature(func)\n\u001b[1;32m    191\u001b[0m \u001b[39m# Map *args/**kwargs to the function signature\u001b[39;00m\n",
      "File \u001b[0;32m~/miniconda3/envs/nlp_fail/lib/python3.10/site-packages/sklearn/metrics/_classification.py:1413\u001b[0m, in \u001b[0;36mfbeta_score\u001b[0;34m(y_true, y_pred, beta, labels, pos_label, average, sample_weight, zero_division)\u001b[0m\n\u001b[1;32m   1251\u001b[0m \u001b[39m@validate_params\u001b[39m(\n\u001b[1;32m   1252\u001b[0m     {\n\u001b[1;32m   1253\u001b[0m         \u001b[39m\"\u001b[39m\u001b[39my_true\u001b[39m\u001b[39m\"\u001b[39m: [\u001b[39m\"\u001b[39m\u001b[39marray-like\u001b[39m\u001b[39m\"\u001b[39m, \u001b[39m\"\u001b[39m\u001b[39msparse matrix\u001b[39m\u001b[39m\"\u001b[39m],\n\u001b[0;32m   (...)\u001b[0m\n\u001b[1;32m   1280\u001b[0m     zero_division\u001b[39m=\u001b[39m\u001b[39m\"\u001b[39m\u001b[39mwarn\u001b[39m\u001b[39m\"\u001b[39m,\n\u001b[1;32m   1281\u001b[0m ):\n\u001b[1;32m   1282\u001b[0m \u001b[39m    \u001b[39m\u001b[39m\"\"\"Compute the F-beta score.\u001b[39;00m\n\u001b[1;32m   1283\u001b[0m \n\u001b[1;32m   1284\u001b[0m \u001b[39m    The F-beta score is the weighted harmonic mean of precision and recall,\u001b[39;00m\n\u001b[0;32m   (...)\u001b[0m\n\u001b[1;32m   1410\u001b[0m \u001b[39m    0.38...\u001b[39;00m\n\u001b[1;32m   1411\u001b[0m \u001b[39m    \"\"\"\u001b[39;00m\n\u001b[0;32m-> 1413\u001b[0m     _, _, f, _ \u001b[39m=\u001b[39m precision_recall_fscore_support(\n\u001b[1;32m   1414\u001b[0m         y_true,\n\u001b[1;32m   1415\u001b[0m         y_pred,\n\u001b[1;32m   1416\u001b[0m         beta\u001b[39m=\u001b[39;49mbeta,\n\u001b[1;32m   1417\u001b[0m         labels\u001b[39m=\u001b[39;49mlabels,\n\u001b[1;32m   1418\u001b[0m         pos_label\u001b[39m=\u001b[39;49mpos_label,\n\u001b[1;32m   1419\u001b[0m         average\u001b[39m=\u001b[39;49maverage,\n\u001b[1;32m   1420\u001b[0m         warn_for\u001b[39m=\u001b[39;49m(\u001b[39m\"\u001b[39;49m\u001b[39mf-score\u001b[39;49m\u001b[39m\"\u001b[39;49m,),\n\u001b[1;32m   1421\u001b[0m         sample_weight\u001b[39m=\u001b[39;49msample_weight,\n\u001b[1;32m   1422\u001b[0m         zero_division\u001b[39m=\u001b[39;49mzero_division,\n\u001b[1;32m   1423\u001b[0m     )\n\u001b[1;32m   1424\u001b[0m     \u001b[39mreturn\u001b[39;00m f\n",
      "File \u001b[0;32m~/miniconda3/envs/nlp_fail/lib/python3.10/site-packages/sklearn/utils/_param_validation.py:187\u001b[0m, in \u001b[0;36mvalidate_params.<locals>.decorator.<locals>.wrapper\u001b[0;34m(*args, **kwargs)\u001b[0m\n\u001b[1;32m    185\u001b[0m global_skip_validation \u001b[39m=\u001b[39m get_config()[\u001b[39m\"\u001b[39m\u001b[39mskip_parameter_validation\u001b[39m\u001b[39m\"\u001b[39m]\n\u001b[1;32m    186\u001b[0m \u001b[39mif\u001b[39;00m global_skip_validation:\n\u001b[0;32m--> 187\u001b[0m     \u001b[39mreturn\u001b[39;00m func(\u001b[39m*\u001b[39;49margs, \u001b[39m*\u001b[39;49m\u001b[39m*\u001b[39;49mkwargs)\n\u001b[1;32m    189\u001b[0m func_sig \u001b[39m=\u001b[39m signature(func)\n\u001b[1;32m    191\u001b[0m \u001b[39m# Map *args/**kwargs to the function signature\u001b[39;00m\n",
      "File \u001b[0;32m~/miniconda3/envs/nlp_fail/lib/python3.10/site-packages/sklearn/metrics/_classification.py:1724\u001b[0m, in \u001b[0;36mprecision_recall_fscore_support\u001b[0;34m(y_true, y_pred, beta, labels, pos_label, average, warn_for, sample_weight, zero_division)\u001b[0m\n\u001b[1;32m   1566\u001b[0m \u001b[39m\u001b[39m\u001b[39m\"\"\"Compute precision, recall, F-measure and support for each class.\u001b[39;00m\n\u001b[1;32m   1567\u001b[0m \n\u001b[1;32m   1568\u001b[0m \u001b[39mThe precision is the ratio ``tp / (tp + fp)`` where ``tp`` is the number of\u001b[39;00m\n\u001b[0;32m   (...)\u001b[0m\n\u001b[1;32m   1721\u001b[0m \u001b[39m array([2, 2, 2]))\u001b[39;00m\n\u001b[1;32m   1722\u001b[0m \u001b[39m\"\"\"\u001b[39;00m\n\u001b[1;32m   1723\u001b[0m zero_division_value \u001b[39m=\u001b[39m _check_zero_division(zero_division)\n\u001b[0;32m-> 1724\u001b[0m labels \u001b[39m=\u001b[39m _check_set_wise_labels(y_true, y_pred, average, labels, pos_label)\n\u001b[1;32m   1726\u001b[0m \u001b[39m# Calculate tp_sum, pred_sum, true_sum ###\u001b[39;00m\n\u001b[1;32m   1727\u001b[0m samplewise \u001b[39m=\u001b[39m average \u001b[39m==\u001b[39m \u001b[39m\"\u001b[39m\u001b[39msamples\u001b[39m\u001b[39m\"\u001b[39m\n",
      "File \u001b[0;32m~/miniconda3/envs/nlp_fail/lib/python3.10/site-packages/sklearn/metrics/_classification.py:1504\u001b[0m, in \u001b[0;36m_check_set_wise_labels\u001b[0;34m(y_true, y_pred, average, labels, pos_label)\u001b[0m\n\u001b[1;32m   1501\u001b[0m y_type, y_true, y_pred \u001b[39m=\u001b[39m _check_targets(y_true, y_pred)\n\u001b[1;32m   1502\u001b[0m \u001b[39m# Convert to Python primitive type to avoid NumPy type / Python str\u001b[39;00m\n\u001b[1;32m   1503\u001b[0m \u001b[39m# comparison. See https://github.com/numpy/numpy/issues/6784\u001b[39;00m\n\u001b[0;32m-> 1504\u001b[0m present_labels \u001b[39m=\u001b[39m unique_labels(y_true, y_pred)\u001b[39m.\u001b[39mtolist()\n\u001b[1;32m   1505\u001b[0m \u001b[39mif\u001b[39;00m average \u001b[39m==\u001b[39m \u001b[39m\"\u001b[39m\u001b[39mbinary\u001b[39m\u001b[39m\"\u001b[39m:\n\u001b[1;32m   1506\u001b[0m     \u001b[39mif\u001b[39;00m y_type \u001b[39m==\u001b[39m \u001b[39m\"\u001b[39m\u001b[39mbinary\u001b[39m\u001b[39m\"\u001b[39m:\n",
      "File \u001b[0;32m~/miniconda3/envs/nlp_fail/lib/python3.10/site-packages/sklearn/utils/multiclass.py:115\u001b[0m, in \u001b[0;36munique_labels\u001b[0;34m(*ys)\u001b[0m\n\u001b[1;32m    113\u001b[0m \u001b[39m# Check that we don't mix string type with number type\u001b[39;00m\n\u001b[1;32m    114\u001b[0m \u001b[39mif\u001b[39;00m \u001b[39mlen\u001b[39m(\u001b[39mset\u001b[39m(\u001b[39misinstance\u001b[39m(label, \u001b[39mstr\u001b[39m) \u001b[39mfor\u001b[39;00m label \u001b[39min\u001b[39;00m ys_labels)) \u001b[39m>\u001b[39m \u001b[39m1\u001b[39m:\n\u001b[0;32m--> 115\u001b[0m     \u001b[39mraise\u001b[39;00m \u001b[39mValueError\u001b[39;00m(\u001b[39m\"\u001b[39m\u001b[39mMix of label input types (string and number)\u001b[39m\u001b[39m\"\u001b[39m)\n\u001b[1;32m    117\u001b[0m \u001b[39mreturn\u001b[39;00m xp\u001b[39m.\u001b[39masarray(\u001b[39msorted\u001b[39m(ys_labels))\n",
      "\u001b[0;31mValueError\u001b[0m: Mix of label input types (string and number)"
     ]
    }
   ],
   "source": [
    "from sklearn.metrics import f1_score, precision_recall_fscore_support\n",
    "\n",
    "# Assuming you have trained your model and obtained predictions\n",
    "# Replace this with your actual test/validation data and predictions\n",
    "y_true = y_test_nlp.to_numpy().reshape(1,-1)\n",
    "y_pred = prediction(model, LONGUEUR_MAX_COMMENTAIRE,X_test_nlp).reshape(1,-1)\n",
    "\n",
    "\n",
    "# Flatten the multi-label data for f1_score calculation\n",
    "f1 = f1_score(y_true.ravel(), y_pred.ravel(), average='macro')\n",
    "\n",
    "print(\"Macro F1 Score (Multi-label):\", f1)\n"
   ]
  },
  {
   "cell_type": "code",
   "execution_count": 93,
   "metadata": {},
   "outputs": [
    {
     "ename": "ValueError",
     "evalue": "Found input variables with inconsistent numbers of samples: [1, 105]",
     "output_type": "error",
     "traceback": [
      "\u001b[0;31m---------------------------------------------------------------------------\u001b[0m",
      "\u001b[0;31mValueError\u001b[0m                                Traceback (most recent call last)",
      "\u001b[1;32m/home/apprenant/Bureau/machine-failure-classier/model/model.ipynb Cellule 22\u001b[0m line \u001b[0;36m7\n\u001b[1;32m      <a href='vscode-notebook-cell:/home/apprenant/Bureau/machine-failure-classier/model/model.ipynb#Y101sZmlsZQ%3D%3D?line=3'>4</a>\u001b[0m y_pred_flat \u001b[39m=\u001b[39m y_pred\n\u001b[1;32m      <a href='vscode-notebook-cell:/home/apprenant/Bureau/machine-failure-classier/model/model.ipynb#Y101sZmlsZQ%3D%3D?line=5'>6</a>\u001b[0m \u001b[39m# Use classification_report\u001b[39;00m\n\u001b[0;32m----> <a href='vscode-notebook-cell:/home/apprenant/Bureau/machine-failure-classier/model/model.ipynb#Y101sZmlsZQ%3D%3D?line=6'>7</a>\u001b[0m report \u001b[39m=\u001b[39m classification_report(y_true_flat, y_pred_flat)\n\u001b[1;32m      <a href='vscode-notebook-cell:/home/apprenant/Bureau/machine-failure-classier/model/model.ipynb#Y101sZmlsZQ%3D%3D?line=7'>8</a>\u001b[0m \u001b[39mprint\u001b[39m(report)\n",
      "File \u001b[0;32m~/miniconda3/envs/nlp_fail/lib/python3.10/site-packages/sklearn/utils/_param_validation.py:214\u001b[0m, in \u001b[0;36mvalidate_params.<locals>.decorator.<locals>.wrapper\u001b[0;34m(*args, **kwargs)\u001b[0m\n\u001b[1;32m    208\u001b[0m \u001b[39mtry\u001b[39;00m:\n\u001b[1;32m    209\u001b[0m     \u001b[39mwith\u001b[39;00m config_context(\n\u001b[1;32m    210\u001b[0m         skip_parameter_validation\u001b[39m=\u001b[39m(\n\u001b[1;32m    211\u001b[0m             prefer_skip_nested_validation \u001b[39mor\u001b[39;00m global_skip_validation\n\u001b[1;32m    212\u001b[0m         )\n\u001b[1;32m    213\u001b[0m     ):\n\u001b[0;32m--> 214\u001b[0m         \u001b[39mreturn\u001b[39;00m func(\u001b[39m*\u001b[39;49margs, \u001b[39m*\u001b[39;49m\u001b[39m*\u001b[39;49mkwargs)\n\u001b[1;32m    215\u001b[0m \u001b[39mexcept\u001b[39;00m InvalidParameterError \u001b[39mas\u001b[39;00m e:\n\u001b[1;32m    216\u001b[0m     \u001b[39m# When the function is just a wrapper around an estimator, we allow\u001b[39;00m\n\u001b[1;32m    217\u001b[0m     \u001b[39m# the function to delegate validation to the estimator, but we replace\u001b[39;00m\n\u001b[1;32m    218\u001b[0m     \u001b[39m# the name of the estimator by the name of the function in the error\u001b[39;00m\n\u001b[1;32m    219\u001b[0m     \u001b[39m# message to avoid confusion.\u001b[39;00m\n\u001b[1;32m    220\u001b[0m     msg \u001b[39m=\u001b[39m re\u001b[39m.\u001b[39msub(\n\u001b[1;32m    221\u001b[0m         \u001b[39mr\u001b[39m\u001b[39m\"\u001b[39m\u001b[39mparameter of \u001b[39m\u001b[39m\\\u001b[39m\u001b[39mw+ must be\u001b[39m\u001b[39m\"\u001b[39m,\n\u001b[1;32m    222\u001b[0m         \u001b[39mf\u001b[39m\u001b[39m\"\u001b[39m\u001b[39mparameter of \u001b[39m\u001b[39m{\u001b[39;00mfunc\u001b[39m.\u001b[39m\u001b[39m__qualname__\u001b[39m\u001b[39m}\u001b[39;00m\u001b[39m must be\u001b[39m\u001b[39m\"\u001b[39m,\n\u001b[1;32m    223\u001b[0m         \u001b[39mstr\u001b[39m(e),\n\u001b[1;32m    224\u001b[0m     )\n",
      "File \u001b[0;32m~/miniconda3/envs/nlp_fail/lib/python3.10/site-packages/sklearn/metrics/_classification.py:2545\u001b[0m, in \u001b[0;36mclassification_report\u001b[0;34m(y_true, y_pred, labels, target_names, sample_weight, digits, output_dict, zero_division)\u001b[0m\n\u001b[1;32m   2410\u001b[0m \u001b[39m@validate_params\u001b[39m(\n\u001b[1;32m   2411\u001b[0m     {\n\u001b[1;32m   2412\u001b[0m         \u001b[39m\"\u001b[39m\u001b[39my_true\u001b[39m\u001b[39m\"\u001b[39m: [\u001b[39m\"\u001b[39m\u001b[39marray-like\u001b[39m\u001b[39m\"\u001b[39m, \u001b[39m\"\u001b[39m\u001b[39msparse matrix\u001b[39m\u001b[39m\"\u001b[39m],\n\u001b[0;32m   (...)\u001b[0m\n\u001b[1;32m   2436\u001b[0m     zero_division\u001b[39m=\u001b[39m\u001b[39m\"\u001b[39m\u001b[39mwarn\u001b[39m\u001b[39m\"\u001b[39m,\n\u001b[1;32m   2437\u001b[0m ):\n\u001b[1;32m   2438\u001b[0m \u001b[39m    \u001b[39m\u001b[39m\"\"\"Build a text report showing the main classification metrics.\u001b[39;00m\n\u001b[1;32m   2439\u001b[0m \n\u001b[1;32m   2440\u001b[0m \u001b[39m    Read more in the :ref:`User Guide <classification_report>`.\u001b[39;00m\n\u001b[0;32m   (...)\u001b[0m\n\u001b[1;32m   2542\u001b[0m \u001b[39m    <BLANKLINE>\u001b[39;00m\n\u001b[1;32m   2543\u001b[0m \u001b[39m    \"\"\"\u001b[39;00m\n\u001b[0;32m-> 2545\u001b[0m     y_type, y_true, y_pred \u001b[39m=\u001b[39m _check_targets(y_true, y_pred)\n\u001b[1;32m   2547\u001b[0m     \u001b[39mif\u001b[39;00m labels \u001b[39mis\u001b[39;00m \u001b[39mNone\u001b[39;00m:\n\u001b[1;32m   2548\u001b[0m         labels \u001b[39m=\u001b[39m unique_labels(y_true, y_pred)\n",
      "File \u001b[0;32m~/miniconda3/envs/nlp_fail/lib/python3.10/site-packages/sklearn/metrics/_classification.py:84\u001b[0m, in \u001b[0;36m_check_targets\u001b[0;34m(y_true, y_pred)\u001b[0m\n\u001b[1;32m     57\u001b[0m \u001b[39mdef\u001b[39;00m \u001b[39m_check_targets\u001b[39m(y_true, y_pred):\n\u001b[1;32m     58\u001b[0m \u001b[39m    \u001b[39m\u001b[39m\"\"\"Check that y_true and y_pred belong to the same classification task.\u001b[39;00m\n\u001b[1;32m     59\u001b[0m \n\u001b[1;32m     60\u001b[0m \u001b[39m    This converts multiclass or binary types to a common shape, and raises a\u001b[39;00m\n\u001b[0;32m   (...)\u001b[0m\n\u001b[1;32m     82\u001b[0m \u001b[39m    y_pred : array or indicator matrix\u001b[39;00m\n\u001b[1;32m     83\u001b[0m \u001b[39m    \"\"\"\u001b[39;00m\n\u001b[0;32m---> 84\u001b[0m     check_consistent_length(y_true, y_pred)\n\u001b[1;32m     85\u001b[0m     type_true \u001b[39m=\u001b[39m type_of_target(y_true, input_name\u001b[39m=\u001b[39m\u001b[39m\"\u001b[39m\u001b[39my_true\u001b[39m\u001b[39m\"\u001b[39m)\n\u001b[1;32m     86\u001b[0m     type_pred \u001b[39m=\u001b[39m type_of_target(y_pred, input_name\u001b[39m=\u001b[39m\u001b[39m\"\u001b[39m\u001b[39my_pred\u001b[39m\u001b[39m\"\u001b[39m)\n",
      "File \u001b[0;32m~/miniconda3/envs/nlp_fail/lib/python3.10/site-packages/sklearn/utils/validation.py:407\u001b[0m, in \u001b[0;36mcheck_consistent_length\u001b[0;34m(*arrays)\u001b[0m\n\u001b[1;32m    405\u001b[0m uniques \u001b[39m=\u001b[39m np\u001b[39m.\u001b[39munique(lengths)\n\u001b[1;32m    406\u001b[0m \u001b[39mif\u001b[39;00m \u001b[39mlen\u001b[39m(uniques) \u001b[39m>\u001b[39m \u001b[39m1\u001b[39m:\n\u001b[0;32m--> 407\u001b[0m     \u001b[39mraise\u001b[39;00m \u001b[39mValueError\u001b[39;00m(\n\u001b[1;32m    408\u001b[0m         \u001b[39m\"\u001b[39m\u001b[39mFound input variables with inconsistent numbers of samples: \u001b[39m\u001b[39m%r\u001b[39;00m\u001b[39m\"\u001b[39m\n\u001b[1;32m    409\u001b[0m         \u001b[39m%\u001b[39m [\u001b[39mint\u001b[39m(l) \u001b[39mfor\u001b[39;00m l \u001b[39min\u001b[39;00m lengths]\n\u001b[1;32m    410\u001b[0m     )\n",
      "\u001b[0;31mValueError\u001b[0m: Found input variables with inconsistent numbers of samples: [1, 105]"
     ]
    }
   ],
   "source": [
    "from sklearn.metrics import classification_report\n",
    "\n",
    "y_true_flat = y_true\n",
    "y_pred_flat = y_pred\n",
    "\n",
    "# Use classification_report\n",
    "report = classification_report(y_true_flat, y_pred_flat)\n",
    "print(report)"
   ]
  },
  {
   "cell_type": "code",
   "execution_count": 48,
   "metadata": {},
   "outputs": [
    {
     "name": "stderr",
     "output_type": "stream",
     "text": [
      "/home/apprenant/miniconda3/envs/nlp_fail/lib/python3.10/site-packages/keras/src/engine/training.py:3079: UserWarning: You are saving your model as an HDF5 file via `model.save()`. This file format is considered legacy. We recommend using instead the native Keras format, e.g. `model.save('my_model.keras')`.\n",
      "  saving_api.save_model(\n"
     ]
    }
   ],
   "source": [
    "model_path = \"./save_model/\"\n",
    "date = datetime.now()\n",
    "model.save(model_path+f\"nlp_{nb_targets}_nb_class_{date}.h5\")"
   ]
  },
  {
   "cell_type": "code",
   "execution_count": 111,
   "metadata": {},
   "outputs": [
    {
     "name": "stdout",
     "output_type": "stream",
     "text": [
      "Model: \"model_1\"\n",
      "__________________________________________________________________________________________________\n",
      " Layer (type)                Output Shape                 Param #   Connected to                  \n",
      "==================================================================================================\n",
      " input_token (InputLayer)    [(None, 40)]                 0         []                            \n",
      "                                                                                                  \n",
      " masked_token (InputLayer)   [(None, 40)]                 0         []                            \n",
      "                                                                                                  \n",
      " tf_camembert_model_3 (TFCa  TFBaseModelOutputWithPooli   1106219   ['input_token[0][0]',         \n",
      " membertModel)               ngAndCrossAttentions(last_   52         'masked_token[0][0]']        \n",
      "                             hidden_state=(None, 40, 76                                           \n",
      "                             8),                                                                  \n",
      "                              pooler_output=(None, 768)                                           \n",
      "                             , past_key_values=None, hi                                           \n",
      "                             dden_states=None, attentio                                           \n",
      "                             ns=None, cross_attentions=                                           \n",
      "                             None)                                                                \n",
      "                                                                                                  \n",
      " dense (Dense)               (None, 14)                   10766     ['tf_camembert_model_3[0][1]']\n",
      "                                                                                                  \n",
      "==================================================================================================\n",
      "Total params: 110632718 (422.03 MB)\n",
      "Trainable params: 110632718 (422.03 MB)\n",
      "Non-trainable params: 0 (0.00 Byte)\n",
      "__________________________________________________________________________________________________\n"
     ]
    }
   ],
   "source": [
    "custom_objects = {'TFCamembertModel': TFCamembertModel}\n",
    "model_path =  \"save_model/nlp_14_nb_class_2023-11-21 15:14:07.250352.h5\"\n",
    "loaded_model = tf.keras.models.load_model(model_path, custom_objects=custom_objects)\n",
    "\n",
    "loaded_model.summary()"
   ]
  },
  {
   "cell_type": "code",
   "execution_count": 114,
   "metadata": {},
   "outputs": [
    {
     "name": "stdout",
     "output_type": "stream",
     "text": [
      "1/1 [==============================] - 0s 222ms/step\n"
     ]
    },
    {
     "data": {
      "text/plain": [
       "array(['ipc', 'hmi', 'communication'], dtype=object)"
      ]
     },
     "execution_count": 114,
     "metadata": {},
     "output_type": "execute_result"
    }
   ],
   "source": [
    "test1 = 'Remplacemetn ecran IPC'\n",
    "test2 = 'Ecran IPC figé'\n",
    "test3 = \"Perte de COM\"\n",
    "prediction(loaded_model, LONGUEUR_MAX_COMMENTAIRE,[test1,test2,test3])"
   ]
  }
 ],
 "metadata": {
  "kernelspec": {
   "display_name": "nlp_fail",
   "language": "python",
   "name": "python3"
  },
  "language_info": {
   "codemirror_mode": {
    "name": "ipython",
    "version": 3
   },
   "file_extension": ".py",
   "mimetype": "text/x-python",
   "name": "python",
   "nbconvert_exporter": "python",
   "pygments_lexer": "ipython3",
   "version": "3.10.13"
  }
 },
 "nbformat": 4,
 "nbformat_minor": 2
}
