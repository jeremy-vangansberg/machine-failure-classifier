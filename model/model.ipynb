{
  "cells": [
    {
      "cell_type": "code",
      "execution_count": 1,
      "metadata": {
        "id": "IlVK-b0iLqlf"
      },
      "outputs": [
        {
          "name": "stdout",
          "output_type": "stream",
          "text": [
            "\u001b[33mWARNING: You are using pip version 22.0.4; however, version 23.3.1 is available.\n",
            "You should consider upgrading via the '/Users/jeremyvangansbeg/Documents/project/gsk-poc/venv/bin/python -m pip install --upgrade pip' command.\u001b[0m\u001b[33m\n",
            "\u001b[0m"
          ]
        }
      ],
      "source": [
        "!pip install sentencepiece --quiet"
      ]
    },
    {
      "cell_type": "code",
      "execution_count": 2,
      "metadata": {
        "id": "RtIlR6i5LLKA"
      },
      "outputs": [
        {
          "name": "stderr",
          "output_type": "stream",
          "text": [
            "/Users/jeremyvangansbeg/Documents/project/gsk-poc/venv/lib/python3.9/site-packages/tqdm/auto.py:21: TqdmWarning: IProgress not found. Please update jupyter and ipywidgets. See https://ipywidgets.readthedocs.io/en/stable/user_install.html\n",
            "  from .autonotebook import tqdm as notebook_tqdm\n"
          ]
        }
      ],
      "source": [
        "import random\n",
        "from datetime import datetime\n",
        "import numpy as np\n",
        "import pandas as pd\n",
        "import matplotlib.pyplot as plt\n",
        "\n",
        "from sklearn.model_selection import train_test_split\n",
        "\n",
        "import tensorflow as tf\n",
        "from tensorflow import keras\n",
        "from tensorflow.keras import Sequential\n",
        "from tensorflow.keras.layers import Dense, Dropout, Input, Dropout, Lambda\n",
        "from tensorflow.keras.models import Model\n",
        "from tensorflow.keras.optimizers import Adam,AdamW\n",
        "from transformers import TFCamembertModel, CamembertTokenizer, CamembertConfig,TFBertModel,CamembertTokenizer, TFCamembertForSequenceClassification\n",
        "keras.backend.clear_session()\n",
        "tf.random.set_seed(42)\n",
        "np.random.seed(42)\n",
        "random.seed(42)"
      ]
    },
    {
      "cell_type": "code",
      "execution_count": 3,
      "metadata": {
        "id": "gFpcdAxeqmBd"
      },
      "outputs": [],
      "source": [
        "def encode_texts(texts, tokenizer, max_seq_length):\n",
        "    input_ids = []\n",
        "\n",
        "    encoded = tokenizer(texts,max_length=max_seq_length, padding='max_length', truncation=False, return_tensors='tf',add_special_tokens=True)\n",
        "    input_ids.append([encoded[\"input_ids\"],encoded[\"attention_mask\"]])\n",
        "    return input_ids\n",
        "\n",
        "def prediction(model, max_seq_length, *args) :\n",
        "    texts = list(*args)\n",
        "    to_test = encode_texts(texts=texts, tokenizer=tokenizer, max_seq_length=max_seq_length)\n",
        "    proba = model.predict(*to_test)\n",
        "    indexes = np.argmax(proba, axis=1)\n",
        "    return le.inverse_transform(indexes)"
      ]
    },
    {
      "cell_type": "code",
      "execution_count": 4,
      "metadata": {
        "colab": {
          "base_uri": "https://localhost:8080/"
        },
        "id": "q1-SiNnILLKI",
        "outputId": "27bbe952-2cef-4aa2-f3a3-ebdb51f5b046"
      },
      "outputs": [
        {
          "data": {
            "text/plain": [
              "Index(['description', 'activity_text', 's-ens', 'cat'], dtype='object')"
            ]
          },
          "execution_count": 4,
          "metadata": {},
          "output_type": "execute_result"
        }
      ],
      "source": [
        "df = pd.read_excel(io=\"./data/historique_interventions_IA.xlsx\", sheet_name=\"liste inter CATEGORISEES LIGHT\")\n",
        "df.columns = [title.lower().replace(\" \", \"_\") for title in df.columns]\n",
        "df.columns"
      ]
    },
    {
      "cell_type": "code",
      "execution_count": 5,
      "metadata": {
        "id": "VMXo_96JLLKR"
      },
      "outputs": [],
      "source": [
        "df['s-ens_cleaned'] = df['s-ens'].str.lower()\n",
        "df = df[['description','s-ens_cleaned']]\n",
        "df.dropna(inplace=True)\n",
        "df.columns = ['description', \"labels\"]"
      ]
    },
    {
      "cell_type": "code",
      "execution_count": 6,
      "metadata": {
        "colab": {
          "base_uri": "https://localhost:8080/",
          "height": 990
        },
        "id": "mHqjgfLDLLKV",
        "outputId": "2e58666b-d013-434f-f2f2-b8a2267adcf6"
      },
      "outputs": [
        {
          "data": {
            "text/html": [
              "<div>\n",
              "<style scoped>\n",
              "    .dataframe tbody tr th:only-of-type {\n",
              "        vertical-align: middle;\n",
              "    }\n",
              "\n",
              "    .dataframe tbody tr th {\n",
              "        vertical-align: top;\n",
              "    }\n",
              "\n",
              "    .dataframe thead th {\n",
              "        text-align: right;\n",
              "    }\n",
              "</style>\n",
              "<table border=\"1\" class=\"dataframe\">\n",
              "  <thead>\n",
              "    <tr style=\"text-align: right;\">\n",
              "      <th></th>\n",
              "      <th>labels</th>\n",
              "      <th>description</th>\n",
              "    </tr>\n",
              "  </thead>\n",
              "  <tbody>\n",
              "    <tr>\n",
              "      <th>0</th>\n",
              "      <td>autom</td>\n",
              "      <td>13</td>\n",
              "    </tr>\n",
              "    <tr>\n",
              "      <th>1</th>\n",
              "      <td>barre ionisante</td>\n",
              "      <td>3</td>\n",
              "    </tr>\n",
              "    <tr>\n",
              "      <th>2</th>\n",
              "      <td>bi</td>\n",
              "      <td>5</td>\n",
              "    </tr>\n",
              "    <tr>\n",
              "      <th>3</th>\n",
              "      <td>bol bouchon</td>\n",
              "      <td>25</td>\n",
              "    </tr>\n",
              "    <tr>\n",
              "      <th>4</th>\n",
              "      <td>cellules</td>\n",
              "      <td>61</td>\n",
              "    </tr>\n",
              "    <tr>\n",
              "      <th>5</th>\n",
              "      <td>climet</td>\n",
              "      <td>6</td>\n",
              "    </tr>\n",
              "    <tr>\n",
              "      <th>6</th>\n",
              "      <td>communication</td>\n",
              "      <td>18</td>\n",
              "    </tr>\n",
              "    <tr>\n",
              "      <th>7</th>\n",
              "      <td>convoyeur entrée</td>\n",
              "      <td>9</td>\n",
              "    </tr>\n",
              "    <tr>\n",
              "      <th>8</th>\n",
              "      <td>convoyeur principal</td>\n",
              "      <td>30</td>\n",
              "    </tr>\n",
              "    <tr>\n",
              "      <th>9</th>\n",
              "      <td>courroie</td>\n",
              "      <td>1</td>\n",
              "    </tr>\n",
              "    <tr>\n",
              "      <th>10</th>\n",
              "      <td>cuve bouchons</td>\n",
              "      <td>1</td>\n",
              "    </tr>\n",
              "    <tr>\n",
              "      <th>11</th>\n",
              "      <td>etoile entrée</td>\n",
              "      <td>1</td>\n",
              "    </tr>\n",
              "    <tr>\n",
              "      <th>12</th>\n",
              "      <td>ev</td>\n",
              "      <td>5</td>\n",
              "    </tr>\n",
              "    <tr>\n",
              "      <th>13</th>\n",
              "      <td>format</td>\n",
              "      <td>10</td>\n",
              "    </tr>\n",
              "    <tr>\n",
              "      <th>14</th>\n",
              "      <td>hmi</td>\n",
              "      <td>90</td>\n",
              "    </tr>\n",
              "    <tr>\n",
              "      <th>15</th>\n",
              "      <td>ipc</td>\n",
              "      <td>103</td>\n",
              "    </tr>\n",
              "    <tr>\n",
              "      <th>16</th>\n",
              "      <td>jog</td>\n",
              "      <td>4</td>\n",
              "    </tr>\n",
              "    <tr>\n",
              "      <th>17</th>\n",
              "      <td>pesée</td>\n",
              "      <td>9</td>\n",
              "    </tr>\n",
              "    <tr>\n",
              "      <th>18</th>\n",
              "      <td>porte</td>\n",
              "      <td>1</td>\n",
              "    </tr>\n",
              "    <tr>\n",
              "      <th>19</th>\n",
              "      <td>poste bouchonnage</td>\n",
              "      <td>67</td>\n",
              "    </tr>\n",
              "    <tr>\n",
              "      <th>20</th>\n",
              "      <td>poste remplissage</td>\n",
              "      <td>28</td>\n",
              "    </tr>\n",
              "    <tr>\n",
              "      <th>21</th>\n",
              "      <td>roue entrée</td>\n",
              "      <td>8</td>\n",
              "    </tr>\n",
              "    <tr>\n",
              "      <th>22</th>\n",
              "      <td>roue sortie</td>\n",
              "      <td>22</td>\n",
              "    </tr>\n",
              "    <tr>\n",
              "      <th>23</th>\n",
              "      <td>servo commande</td>\n",
              "      <td>11</td>\n",
              "    </tr>\n",
              "    <tr>\n",
              "      <th>24</th>\n",
              "      <td>soufflet</td>\n",
              "      <td>7</td>\n",
              "    </tr>\n",
              "    <tr>\n",
              "      <th>25</th>\n",
              "      <td>table tournante</td>\n",
              "      <td>17</td>\n",
              "    </tr>\n",
              "    <tr>\n",
              "      <th>26</th>\n",
              "      <td>tapis entrée</td>\n",
              "      <td>5</td>\n",
              "    </tr>\n",
              "    <tr>\n",
              "      <th>27</th>\n",
              "      <td>tiroir</td>\n",
              "      <td>2</td>\n",
              "    </tr>\n",
              "    <tr>\n",
              "      <th>28</th>\n",
              "      <td>tremie</td>\n",
              "      <td>12</td>\n",
              "    </tr>\n",
              "    <tr>\n",
              "      <th>29</th>\n",
              "      <td>vis sans fin</td>\n",
              "      <td>24</td>\n",
              "    </tr>\n",
              "  </tbody>\n",
              "</table>\n",
              "</div>"
            ],
            "text/plain": [
              "                  labels  description\n",
              "0                  autom           13\n",
              "1        barre ionisante            3\n",
              "2                     bi            5\n",
              "3            bol bouchon           25\n",
              "4              cellules            61\n",
              "5                 climet            6\n",
              "6          communication           18\n",
              "7       convoyeur entrée            9\n",
              "8   convoyeur principal            30\n",
              "9               courroie            1\n",
              "10         cuve bouchons            1\n",
              "11         etoile entrée            1\n",
              "12                    ev            5\n",
              "13                format           10\n",
              "14                   hmi           90\n",
              "15                   ipc          103\n",
              "16                   jog            4\n",
              "17                 pesée            9\n",
              "18                 porte            1\n",
              "19     poste bouchonnage           67\n",
              "20     poste remplissage           28\n",
              "21           roue entrée            8\n",
              "22          roue sortie            22\n",
              "23        servo commande           11\n",
              "24              soufflet            7\n",
              "25       table tournante           17\n",
              "26          tapis entrée            5\n",
              "27                tiroir            2\n",
              "28               tremie            12\n",
              "29          vis sans fin           24"
            ]
          },
          "metadata": {},
          "output_type": "display_data"
        }
      ],
      "source": [
        "count = df.groupby('labels').count().reset_index()\n",
        "\n",
        "nb_min_to_keep = 10\n",
        "\n",
        "result = count[count['description'] > nb_min_to_keep]\n",
        "result['labels']\n",
        "nb_targets = result['labels'].nunique()\n",
        "display(count)"
      ]
    },
    {
      "cell_type": "code",
      "execution_count": 7,
      "metadata": {
        "id": "nJu0rqYMLLKe"
      },
      "outputs": [],
      "source": [
        "list_label_to_keep = result['labels'].unique()"
      ]
    },
    {
      "cell_type": "code",
      "execution_count": 8,
      "metadata": {
        "id": "ZjXg7mInLLKi"
      },
      "outputs": [],
      "source": [
        "df.loc[~df['labels'].isin(list_label_to_keep),\"labels\"] = \"Autre catégorie\""
      ]
    },
    {
      "cell_type": "code",
      "execution_count": 13,
      "metadata": {},
      "outputs": [
        {
          "data": {
            "text/html": [
              "<div>\n",
              "<style scoped>\n",
              "    .dataframe tbody tr th:only-of-type {\n",
              "        vertical-align: middle;\n",
              "    }\n",
              "\n",
              "    .dataframe tbody tr th {\n",
              "        vertical-align: top;\n",
              "    }\n",
              "\n",
              "    .dataframe thead th {\n",
              "        text-align: right;\n",
              "    }\n",
              "</style>\n",
              "<table border=\"1\" class=\"dataframe\">\n",
              "  <thead>\n",
              "    <tr style=\"text-align: right;\">\n",
              "      <th></th>\n",
              "      <th>description</th>\n",
              "      <th>labels</th>\n",
              "      <th>labels_encoded</th>\n",
              "    </tr>\n",
              "  </thead>\n",
              "  <tbody>\n",
              "    <tr>\n",
              "      <th>0</th>\n",
              "      <td>Surcharge convoyeur TX124</td>\n",
              "      <td>convoyeur principal</td>\n",
              "      <td>5</td>\n",
              "    </tr>\n",
              "    <tr>\n",
              "      <th>1</th>\n",
              "      <td>casse entree etoile entrée.</td>\n",
              "      <td>Autre catégorie</td>\n",
              "      <td>0</td>\n",
              "    </tr>\n",
              "    <tr>\n",
              "      <th>2</th>\n",
              "      <td>Mauvais bouchonnage</td>\n",
              "      <td>poste bouchonnage</td>\n",
              "      <td>8</td>\n",
              "    </tr>\n",
              "    <tr>\n",
              "      <th>3</th>\n",
              "      <td>presence bavure sur un format</td>\n",
              "      <td>Autre catégorie</td>\n",
              "      <td>0</td>\n",
              "    </tr>\n",
              "    <tr>\n",
              "      <th>4</th>\n",
              "      <td>Mauvais bouchonnage</td>\n",
              "      <td>poste bouchonnage</td>\n",
              "      <td>8</td>\n",
              "    </tr>\n",
              "    <tr>\n",
              "      <th>...</th>\n",
              "      <td>...</td>\n",
              "      <td>...</td>\n",
              "      <td>...</td>\n",
              "    </tr>\n",
              "    <tr>\n",
              "      <th>594</th>\n",
              "      <td>PC IPC bloqué</td>\n",
              "      <td>hmi</td>\n",
              "      <td>6</td>\n",
              "    </tr>\n",
              "    <tr>\n",
              "      <th>595</th>\n",
              "      <td>PB poid durant 490</td>\n",
              "      <td>Autre catégorie</td>\n",
              "      <td>0</td>\n",
              "    </tr>\n",
              "    <tr>\n",
              "      <th>596</th>\n",
              "      <td>Machine en attente bouchons.</td>\n",
              "      <td>poste bouchonnage</td>\n",
              "      <td>8</td>\n",
              "    </tr>\n",
              "    <tr>\n",
              "      <th>597</th>\n",
              "      <td>Défaut accu mini convoyeur bouchon</td>\n",
              "      <td>poste bouchonnage</td>\n",
              "      <td>8</td>\n",
              "    </tr>\n",
              "    <tr>\n",
              "      <th>598</th>\n",
              "      <td>Shunt barres ions</td>\n",
              "      <td>Autre catégorie</td>\n",
              "      <td>0</td>\n",
              "    </tr>\n",
              "  </tbody>\n",
              "</table>\n",
              "<p>598 rows × 3 columns</p>\n",
              "</div>"
            ],
            "text/plain": [
              "                            description                labels  labels_encoded\n",
              "0             Surcharge convoyeur TX124  convoyeur principal                5\n",
              "1           casse entree etoile entrée.       Autre catégorie               0\n",
              "2                   Mauvais bouchonnage     poste bouchonnage               8\n",
              "3         presence bavure sur un format       Autre catégorie               0\n",
              "4                   Mauvais bouchonnage     poste bouchonnage               8\n",
              "..                                  ...                   ...             ...\n",
              "594                       PC IPC bloqué                   hmi               6\n",
              "595                  PB poid durant 490       Autre catégorie               0\n",
              "596        Machine en attente bouchons.     poste bouchonnage               8\n",
              "597  Défaut accu mini convoyeur bouchon     poste bouchonnage               8\n",
              "598                   Shunt barres ions       Autre catégorie               0\n",
              "\n",
              "[598 rows x 3 columns]"
            ]
          },
          "execution_count": 13,
          "metadata": {},
          "output_type": "execute_result"
        }
      ],
      "source": [
        "df"
      ]
    },
    {
      "cell_type": "code",
      "execution_count": 11,
      "metadata": {
        "id": "lzsvvrQMLLKm"
      },
      "outputs": [],
      "source": [
        "from sklearn.preprocessing import LabelEncoder\n",
        "from sklearn.model_selection import train_test_split\n",
        "from sklearn.utils import class_weight\n",
        "import pickle\n",
        "# Création de l'encodeur\n",
        "le = LabelEncoder()\n",
        "nb_targets = df['labels'].nunique()\n",
        "# Entraînement de l'encodeur et transformation des labels\n",
        "df['labels_encoded'] = le.fit_transform(df['labels'])\n",
        "\n",
        "y = df['labels_encoded']\n",
        "\n",
        "\n",
        "filename = './save_model/labelencoder2.pkl'\n",
        "pickle.dump(le, open(filename, 'wb'))\n",
        "\n",
        "\n",
        "X_train_nlp, X_test_nlp, y_train_nlp, y_test_nlp = train_test_split(np.array(df['description']), y,\n",
        "                                                   test_size=0.2,\n",
        "                                                   random_state = 0,\n",
        "                                                   stratify=y,\n",
        "                                                   shuffle=True)\n",
        "X_train_nlp, X_val_nlp, y_train_nlp, y_val_nlp = train_test_split(np.array(X_train_nlp), np.array(y_train_nlp),\n",
        "                                                   test_size=0.1,\n",
        "                                                   random_state = 0,\n",
        "                                                   stratify=y_train_nlp,\n",
        "                                                   shuffle=True)\n",
        "\n",
        "\n",
        "\n"
      ]
    },
    {
      "cell_type": "code",
      "execution_count": 10,
      "metadata": {},
      "outputs": [
        {
          "name": "stdout",
          "output_type": "stream",
          "text": [
            "Element hmi occurs 65 times.\n",
            "Element ipc occurs 74 times.\n",
            "Element convoyeur principal  occurs 21 times.\n",
            "Element autom occurs 9 times.\n",
            "Element vis sans fin occurs 17 times.\n",
            "Element poste bouchonnage occurs 48 times.\n",
            "Element servo commande occurs 8 times.\n",
            "Element communication occurs 13 times.\n",
            "Element cellules  occurs 44 times.\n",
            "Element Autre catégorie occurs 55 times.\n",
            "Element bol bouchon occurs 18 times.\n",
            "Element table tournante occurs 13 times.\n",
            "Element poste remplissage occurs 20 times.\n",
            "Element roue sortie  occurs 16 times.\n",
            "Element tremie  occurs 9 times.\n"
          ]
        }
      ],
      "source": [
        "from collections import Counter\n",
        "import numpy as np\n",
        "\n",
        "element_counts = Counter(y_train_nlp)\n",
        "\n",
        "for element, count in element_counts.items():\n",
        "    print(f\"Element {le.inverse_transform([element])[0]} occurs {count} times.\")"
      ]
    },
    {
      "cell_type": "code",
      "execution_count": 11,
      "metadata": {
        "colab": {
          "base_uri": "https://localhost:8080/"
        },
        "id": "VuB0UBWQLLKr",
        "outputId": "cda730d2-ef14-4122-cc44-0d73edec3bf9"
      },
      "outputs": [
        {
          "name": "stderr",
          "output_type": "stream",
          "text": [
            "Some layers from the model checkpoint at jplu/tf-camembert-base were not used when initializing TFCamembertModel: ['lm_head']\n",
            "- This IS expected if you are initializing TFCamembertModel from the checkpoint of a model trained on another task or with another architecture (e.g. initializing a BertForSequenceClassification model from a BertForPreTraining model).\n",
            "- This IS NOT expected if you are initializing TFCamembertModel from the checkpoint of a model that you expect to be exactly identical (initializing a BertForSequenceClassification model from a BertForSequenceClassification model).\n",
            "All the layers of TFCamembertModel were initialized from the model checkpoint at jplu/tf-camembert-base.\n",
            "If your task is similar to the task the model of the checkpoint was trained on, you can already use TFCamembertModel for predictions without further training.\n"
          ]
        }
      ],
      "source": [
        "tokenizer = CamembertTokenizer(\"./save_model/tokenizer_model.model\")\n",
        "\n",
        "model = TFCamembertModel.from_pretrained(\"jplu/tf-camembert-base\",num_labels=nb_targets)\n",
        "LONGUEUR_MAX_COMMENTAIRE = df.description.str.len().max()\n",
        "output_tokenizer_entrainement = tokenizer(list(X_train_nlp),max_length=LONGUEUR_MAX_COMMENTAIRE, padding='max_length', truncation=False, return_tensors='tf',add_special_tokens=True)\n",
        "output_tokenizer_tests = tokenizer(list(X_test_nlp),max_length=LONGUEUR_MAX_COMMENTAIRE, padding='max_length', truncation=False, return_tensors='tf',add_special_tokens=True)\n",
        "output_tokenizer_val = tokenizer(list(X_val_nlp),max_length=LONGUEUR_MAX_COMMENTAIRE, padding='max_length', truncation=False, return_tensors='tf',add_special_tokens=True)"
      ]
    },
    {
      "cell_type": "code",
      "execution_count": 12,
      "metadata": {
        "colab": {
          "base_uri": "https://localhost:8080/"
        },
        "id": "QK3ijxERLLKu",
        "outputId": "105a7e4e-52fe-4b0b-fe68-d23d5f33f4c9"
      },
      "outputs": [
        {
          "name": "stdout",
          "output_type": "stream",
          "text": [
            "Model: \"model\"\n",
            "__________________________________________________________________________________________________\n",
            " Layer (type)                Output Shape                 Param #   Connected to                  \n",
            "==================================================================================================\n",
            " input_token (InputLayer)    [(None, 40)]                 0         []                            \n",
            "                                                                                                  \n",
            " masked_token (InputLayer)   [(None, 40)]                 0         []                            \n",
            "                                                                                                  \n",
            " tf_camembert_model (TFCame  TFBaseModelOutputWithPooli   1106219   ['input_token[0][0]',         \n",
            " mbertModel)                 ngAndCrossAttentions(last_   52         'masked_token[0][0]']        \n",
            "                             hidden_state=(None, 40, 76                                           \n",
            "                             8),                                                                  \n",
            "                              pooler_output=(None, 768)                                           \n",
            "                             , past_key_values=None, hi                                           \n",
            "                             dden_states=None, attentio                                           \n",
            "                             ns=None, cross_attentions=                                           \n",
            "                             None)                                                                \n",
            "                                                                                                  \n",
            "==================================================================================================\n",
            "Total params: 110621952 (421.99 MB)\n",
            "Trainable params: 0 (0.00 Byte)\n",
            "Non-trainable params: 110621952 (421.99 MB)\n",
            "__________________________________________________________________________________________________\n"
          ]
        }
      ],
      "source": [
        "entrees_ids = tf.keras.layers.Input(shape=(LONGUEUR_MAX_COMMENTAIRE,), name='input_token', dtype='int32')\n",
        "entrees_masks = tf.keras.layers.Input(shape=(LONGUEUR_MAX_COMMENTAIRE,), name='masked_token', dtype='int32')\n",
        "sortie_camemBERT = model([entrees_ids,entrees_masks])\n",
        "\n",
        "# Instanciation du modèle avec Keras\n",
        "model_camemBERT = tf.keras.Model(inputs=[entrees_ids, entrees_masks], outputs = sortie_camemBERT,trainable=False)\n",
        "model_camemBERT.summary()"
      ]
    },
    {
      "cell_type": "code",
      "execution_count": 13,
      "metadata": {
        "colab": {
          "base_uri": "https://localhost:8080/"
        },
        "id": "kWpl6PkOLLK0",
        "outputId": "7956bb97-7715-4497-fab8-fd69642566a8"
      },
      "outputs": [
        {
          "name": "stderr",
          "output_type": "stream",
          "text": [
            "WARNING:absl:At this time, the v2.11+ optimizer `tf.keras.optimizers.AdamW` runs slowly on M1/M2 Macs, please use the legacy Keras optimizer instead, located at `tf.keras.optimizers.legacy.AdamW`.\n"
          ]
        },
        {
          "name": "stdout",
          "output_type": "stream",
          "text": [
            "Model: \"model_1\"\n",
            "__________________________________________________________________________________________________\n",
            " Layer (type)                Output Shape                 Param #   Connected to                  \n",
            "==================================================================================================\n",
            " input_token (InputLayer)    [(None, 40)]                 0         []                            \n",
            "                                                                                                  \n",
            " masked_token (InputLayer)   [(None, 40)]                 0         []                            \n",
            "                                                                                                  \n",
            " tf_camembert_model (TFCame  TFBaseModelOutputWithPooli   1106219   ['input_token[0][0]',         \n",
            " mbertModel)                 ngAndCrossAttentions(last_   52         'masked_token[0][0]']        \n",
            "                             hidden_state=(None, 40, 76                                           \n",
            "                             8),                                                                  \n",
            "                              pooler_output=(None, 768)                                           \n",
            "                             , past_key_values=None, hi                                           \n",
            "                             dden_states=None, attentio                                           \n",
            "                             ns=None, cross_attentions=                                           \n",
            "                             None)                                                                \n",
            "                                                                                                  \n",
            " dense (Dense)               (None, 15)                   11535     ['tf_camembert_model[0][1]']  \n",
            "                                                                                                  \n",
            "==================================================================================================\n",
            "Total params: 110633487 (422.03 MB)\n",
            "Trainable params: 11535 (45.06 KB)\n",
            "Non-trainable params: 110621952 (421.99 MB)\n",
            "__________________________________________________________________________________________________\n"
          ]
        }
      ],
      "source": [
        "output = Dense(nb_targets, activation='softmax')(sortie_camemBERT[1])  # Use pooled representation\n",
        "model = tf.keras.Model(inputs=[entrees_ids, entrees_masks], outputs=output)\n",
        "model.layers[2].trainable = False  # Disable training of CamemBERT\n",
        "\n",
        "\n",
        "model.compile(loss='sparse_categorical_crossentropy', optimizer=AdamW(5e-4,weight_decay= 0.01), metrics=['accuracy'])\n",
        "model.summary()"
      ]
    },
    {
      "cell_type": "code",
      "execution_count": 14,
      "metadata": {},
      "outputs": [],
      "source": [
        "class_weights = class_weight.compute_class_weight(\n",
        "                    'balanced',\n",
        "                    classes=np.unique(y_train_nlp),\n",
        "                    y=y_train_nlp)\n",
        "class_weights_dict = {i : class_weights[i] for i in range(len(class_weights))}\n",
        "liste_weight = []\n",
        "\n"
      ]
    },
    {
      "cell_type": "code",
      "execution_count": 15,
      "metadata": {},
      "outputs": [],
      "source": [
        "for count, description in enumerate(X_train_nlp):\n",
        "    # print(count , description,le.inverse_transform([y_train_nlp[count]])[0])\n",
        "    if le.inverse_transform([y_train_nlp[count]]) != \"ipc\":\n",
        "        if \"ipc\" in description.lower():\n",
        "            liste_weight.append(1.25)\n",
        "        else:\n",
        "            liste_weight.append(1)\n",
        "    else:\n",
        "        liste_weight.append(0.95)\n",
        "sample_weights = np.array(liste_weight).ravel()"
      ]
    },
    {
      "cell_type": "code",
      "execution_count": 16,
      "metadata": {
        "colab": {
          "base_uri": "https://localhost:8080/"
        },
        "id": "eQwD33RBLLK3",
        "outputId": "4591f50d-81df-474d-c9af-aa94f8ba56be"
      },
      "outputs": [
        {
          "name": "stdout",
          "output_type": "stream",
          "text": [
            "Epoch 1/20\n",
            "14/14 [==============================] - 18s 1s/step - loss: 2.6802 - accuracy: 0.1256 - val_loss: 2.5803 - val_accuracy: 0.1458\n",
            "Epoch 2/20\n",
            "14/14 [==============================] - 11s 810ms/step - loss: 2.5786 - accuracy: 0.1465 - val_loss: 2.5078 - val_accuracy: 0.1458\n",
            "Epoch 3/20\n",
            "14/14 [==============================] - 11s 817ms/step - loss: 2.5182 - accuracy: 0.1581 - val_loss: 2.4674 - val_accuracy: 0.1458\n",
            "Epoch 4/20\n",
            "14/14 [==============================] - 12s 832ms/step - loss: 2.4914 - accuracy: 0.1512 - val_loss: 2.4482 - val_accuracy: 0.1458\n",
            "Epoch 5/20\n",
            "14/14 [==============================] - 12s 900ms/step - loss: 2.4716 - accuracy: 0.1558 - val_loss: 2.4382 - val_accuracy: 0.1667\n",
            "Epoch 6/20\n",
            "14/14 [==============================] - 12s 843ms/step - loss: 2.4570 - accuracy: 0.1721 - val_loss: 2.4329 - val_accuracy: 0.2083\n",
            "Epoch 7/20\n",
            "14/14 [==============================] - 11s 816ms/step - loss: 2.4583 - accuracy: 0.2302 - val_loss: 2.4278 - val_accuracy: 0.2083\n",
            "Epoch 8/20\n",
            "14/14 [==============================] - 11s 815ms/step - loss: 2.4517 - accuracy: 0.2070 - val_loss: 2.4232 - val_accuracy: 0.1667\n",
            "Epoch 9/20\n",
            "14/14 [==============================] - 12s 860ms/step - loss: 2.4503 - accuracy: 0.2116 - val_loss: 2.4187 - val_accuracy: 0.1667\n",
            "Epoch 10/20\n",
            "14/14 [==============================] - 12s 876ms/step - loss: 2.4430 - accuracy: 0.2256 - val_loss: 2.4137 - val_accuracy: 0.1875\n",
            "Epoch 11/20\n",
            "14/14 [==============================] - 12s 830ms/step - loss: 2.4402 - accuracy: 0.2256 - val_loss: 2.4108 - val_accuracy: 0.2500\n",
            "Epoch 12/20\n",
            "14/14 [==============================] - 12s 828ms/step - loss: 2.4269 - accuracy: 0.2442 - val_loss: 2.4073 - val_accuracy: 0.2500\n",
            "Epoch 13/20\n",
            "14/14 [==============================] - 12s 856ms/step - loss: 2.4152 - accuracy: 0.2442 - val_loss: 2.4027 - val_accuracy: 0.2083\n",
            "Epoch 14/20\n",
            "14/14 [==============================] - 11s 824ms/step - loss: 2.4149 - accuracy: 0.2419 - val_loss: 2.3980 - val_accuracy: 0.2500\n",
            "Epoch 15/20\n",
            "14/14 [==============================] - 11s 796ms/step - loss: 2.4166 - accuracy: 0.2488 - val_loss: 2.3933 - val_accuracy: 0.2500\n",
            "Epoch 16/20\n",
            "14/14 [==============================] - 11s 821ms/step - loss: 2.4108 - accuracy: 0.2558 - val_loss: 2.3913 - val_accuracy: 0.2500\n",
            "Epoch 17/20\n",
            "14/14 [==============================] - 11s 791ms/step - loss: 2.4067 - accuracy: 0.2651 - val_loss: 2.3884 - val_accuracy: 0.2500\n",
            "Epoch 18/20\n",
            "14/14 [==============================] - 12s 874ms/step - loss: 2.4041 - accuracy: 0.2488 - val_loss: 2.3856 - val_accuracy: 0.1875\n",
            "Epoch 19/20\n",
            "14/14 [==============================] - 11s 820ms/step - loss: 2.3970 - accuracy: 0.2326 - val_loss: 2.3825 - val_accuracy: 0.1875\n",
            "Epoch 20/20\n",
            "14/14 [==============================] - 12s 852ms/step - loss: 2.3906 - accuracy: 0.2349 - val_loss: 2.3773 - val_accuracy: 0.2083\n"
          ]
        }
      ],
      "source": [
        "# early = keras.callbacks.EarlyStopping(monitor='val_loss', patience=5, restore_best_weights=True)\n",
        "\n",
        "# callbacks=[early]\n",
        "# history = model.fit([output_tokenizer_entrainement['input_ids'],output_tokenizer_entrainement['attention_mask']],y_train_nlp,\n",
        "#                     epochs=20, verbose=1, batch_size = 32,callbacks=callbacks, workers=-1, sample_weight=sample_weights,\n",
        "#                     validation_data=([output_tokenizer_val['input_ids'],output_tokenizer_val['attention_mask']],y_val_nlp))"
      ]
    },
    {
      "cell_type": "code",
      "execution_count": 17,
      "metadata": {
        "colab": {
          "base_uri": "https://localhost:8080/",
          "height": 472
        },
        "id": "zyCEww7cLLLE",
        "outputId": "debd2310-5df5-4a65-e230-c9bbec24f09f"
      },
      "outputs": [
        {
          "data": {
            "image/png": "[encoded data removed]",
            "text/plain": [
              "<Figure size 640x480 with 1 Axes>"
            ]
          },
          "metadata": {},
          "output_type": "display_data"
        }
      ],
      "source": [
        "plt.plot(history.history['accuracy'])\n",
        "plt.plot(history.history['val_accuracy'])\n",
        "plt.title('Précision du modèle')\n",
        "plt.ylabel('Précision')\n",
        "plt.xlabel('Itération')\n",
        "plt.legend(['Entrainement', 'Test'], loc='upper left')\n",
        "plt.show()\n"
      ]
    },
    {
      "cell_type": "code",
      "execution_count": 18,
      "metadata": {
        "colab": {
          "base_uri": "https://localhost:8080/"
        },
        "id": "L29fmypfqsJJ",
        "outputId": "00f9bcac-e30f-424f-d3ae-5e070c50b0d8"
      },
      "outputs": [
        {
          "name": "stdout",
          "output_type": "stream",
          "text": [
            "4/4 [==============================] - 5s 792ms/step\n",
            "Macro F1 Score (Multi-label): 0.04603729603729604\n",
            "              precision    recall  f1-score   support\n",
            "\n",
            "           0       0.00      0.00      0.00        16\n",
            "           1       0.00      0.00      0.00         3\n",
            "           2       0.00      0.00      0.00         5\n",
            "           3       0.00      0.00      0.00        12\n",
            "           4       0.00      0.00      0.00         4\n",
            "           5       0.00      0.00      0.00         6\n",
            "           6       0.20      0.94      0.33        18\n",
            "           7       0.29      0.48      0.36        21\n",
            "           8       0.00      0.00      0.00        13\n",
            "           9       0.00      0.00      0.00         6\n",
            "          10       0.00      0.00      0.00         4\n",
            "          11       0.00      0.00      0.00         2\n",
            "          12       0.00      0.00      0.00         3\n",
            "          13       0.00      0.00      0.00         2\n",
            "          14       0.00      0.00      0.00         5\n",
            "\n",
            "    accuracy                           0.23       120\n",
            "   macro avg       0.03      0.09      0.05       120\n",
            "weighted avg       0.08      0.23      0.11       120\n",
            "\n"
          ]
        },
        {
          "name": "stderr",
          "output_type": "stream",
          "text": [
            "/Users/jeremyvangansbeg/Documents/project/gsk-poc/venv/lib/python3.9/site-packages/sklearn/metrics/_classification.py:1471: UndefinedMetricWarning: Precision and F-score are ill-defined and being set to 0.0 in labels with no predicted samples. Use `zero_division` parameter to control this behavior.\n",
            "  _warn_prf(average, modifier, msg_start, len(result))\n",
            "/Users/jeremyvangansbeg/Documents/project/gsk-poc/venv/lib/python3.9/site-packages/sklearn/metrics/_classification.py:1471: UndefinedMetricWarning: Precision and F-score are ill-defined and being set to 0.0 in labels with no predicted samples. Use `zero_division` parameter to control this behavior.\n",
            "  _warn_prf(average, modifier, msg_start, len(result))\n",
            "/Users/jeremyvangansbeg/Documents/project/gsk-poc/venv/lib/python3.9/site-packages/sklearn/metrics/_classification.py:1471: UndefinedMetricWarning: Precision and F-score are ill-defined and being set to 0.0 in labels with no predicted samples. Use `zero_division` parameter to control this behavior.\n",
            "  _warn_prf(average, modifier, msg_start, len(result))\n"
          ]
        }
      ],
      "source": [
        "from sklearn.metrics import f1_score, precision_recall_fscore_support\n",
        "\n",
        "# Assuming you have trained your model and obtained predictions\n",
        "# Replace this with your actual test/validation data and predictions\n",
        "y_true = y_test_nlp.to_numpy().reshape(1,-1)\n",
        "y_pred = le.transform(prediction(model, LONGUEUR_MAX_COMMENTAIRE,X_test_nlp)).reshape(1,-1)\n",
        "\n",
        "\n",
        "# Flatten the multi-label data for f1_score calculation\n",
        "f1 = f1_score(y_true.ravel(), y_pred.ravel(), average='macro')\n",
        "\n",
        "print(\"Macro F1 Score (Multi-label):\", f1)\n",
        "from sklearn.metrics import classification_report\n",
        "\n",
        "y_true_flat = y_true.ravel()\n",
        "y_pred_flat = y_pred.ravel()\n",
        "\n",
        "# Use classification_report\n",
        "report = classification_report(y_true_flat, y_pred_flat)\n",
        "print(report)"
      ]
    },
    {
      "cell_type": "code",
      "execution_count": 19,
      "metadata": {
        "colab": {
          "base_uri": "https://localhost:8080/"
        },
        "id": "6jkzZLTHLLLG",
        "outputId": "d77df3c8-6d4e-45f9-8b79-1408499f38cc"
      },
      "outputs": [
        {
          "name": "stderr",
          "output_type": "stream",
          "text": [
            "WARNING:absl:At this time, the v2.11+ optimizer `tf.keras.optimizers.AdamW` runs slowly on M1/M2 Macs, please use the legacy Keras optimizer instead, located at `tf.keras.optimizers.legacy.AdamW`.\n"
          ]
        },
        {
          "name": "stdout",
          "output_type": "stream",
          "text": [
            "Model: \"model_1\"\n",
            "__________________________________________________________________________________________________\n",
            " Layer (type)                Output Shape                 Param #   Connected to                  \n",
            "==================================================================================================\n",
            " input_token (InputLayer)    [(None, 40)]                 0         []                            \n",
            "                                                                                                  \n",
            " masked_token (InputLayer)   [(None, 40)]                 0         []                            \n",
            "                                                                                                  \n",
            " tf_camembert_model (TFCame  TFBaseModelOutputWithPooli   1106219   ['input_token[0][0]',         \n",
            " mbertModel)                 ngAndCrossAttentions(last_   52         'masked_token[0][0]']        \n",
            "                             hidden_state=(None, 40, 76                                           \n",
            "                             8),                                                                  \n",
            "                              pooler_output=(None, 768)                                           \n",
            "                             , past_key_values=None, hi                                           \n",
            "                             dden_states=None, attentio                                           \n",
            "                             ns=None, cross_attentions=                                           \n",
            "                             None)                                                                \n",
            "                                                                                                  \n",
            " dense (Dense)               (None, 15)                   11535     ['tf_camembert_model[0][1]']  \n",
            "                                                                                                  \n",
            "==================================================================================================\n",
            "Total params: 110633487 (422.03 MB)\n",
            "Trainable params: 110633487 (422.03 MB)\n",
            "Non-trainable params: 0 (0.00 Byte)\n",
            "__________________________________________________________________________________________________\n"
          ]
        }
      ],
      "source": [
        "model.layers[2].trainable = True\n",
        "model.layers[3].trainable = True\n",
        "model.compile(loss='sparse_categorical_crossentropy', optimizer=AdamW(1e-4,weight_decay= 0.01), metrics=['accuracy'])\n",
        "model.summary()"
      ]
    },
    {
      "cell_type": "code",
      "execution_count": 20,
      "metadata": {
        "colab": {
          "base_uri": "https://localhost:8080/"
        },
        "id": "sSNNaAjeLLLM",
        "outputId": "d6228d36-9a18-4348-993d-24daf764442c"
      },
      "outputs": [
        {
          "name": "stdout",
          "output_type": "stream",
          "text": [
            "Epoch 1/30\n",
            "14/14 [==============================] - 52s 3s/step - loss: 2.2626 - accuracy: 0.3209 - val_loss: 1.8792 - val_accuracy: 0.4375\n",
            "Epoch 2/30\n",
            "14/14 [==============================] - 38s 3s/step - loss: 1.7138 - accuracy: 0.5442 - val_loss: 1.4257 - val_accuracy: 0.5625\n",
            "Epoch 3/30\n",
            "14/14 [==============================] - 38s 3s/step - loss: 1.1813 - accuracy: 0.7256 - val_loss: 1.2244 - val_accuracy: 0.6042\n",
            "Epoch 4/30\n",
            "14/14 [==============================] - 34s 2s/step - loss: 0.7550 - accuracy: 0.8721 - val_loss: 0.9965 - val_accuracy: 0.6458\n",
            "Epoch 5/30\n",
            "14/14 [==============================] - 34s 2s/step - loss: 0.4589 - accuracy: 0.9442 - val_loss: 0.8333 - val_accuracy: 0.7708\n",
            "Epoch 6/30\n",
            "14/14 [==============================] - 34s 2s/step - loss: 0.2896 - accuracy: 0.9721 - val_loss: 0.8536 - val_accuracy: 0.7500\n",
            "Epoch 7/30\n",
            "14/14 [==============================] - 34s 2s/step - loss: 0.1849 - accuracy: 0.9930 - val_loss: 0.8678 - val_accuracy: 0.7292\n",
            "Epoch 8/30\n",
            "14/14 [==============================] - 34s 2s/step - loss: 0.1252 - accuracy: 0.9884 - val_loss: 0.8223 - val_accuracy: 0.7500\n",
            "Epoch 9/30\n",
            "14/14 [==============================] - 35s 2s/step - loss: 0.0997 - accuracy: 0.9884 - val_loss: 0.8308 - val_accuracy: 0.7083\n",
            "Epoch 10/30\n",
            "14/14 [==============================] - 35s 2s/step - loss: 0.0661 - accuracy: 0.9953 - val_loss: 0.7813 - val_accuracy: 0.7917\n",
            "Epoch 11/30\n",
            " 6/14 [===========>..................] - ETA: 21s - loss: 0.1003 - accuracy: 0.9844"
          ]
        }
      ],
      "source": [
        "history = model.fit([output_tokenizer_entrainement['input_ids'],output_tokenizer_entrainement['attention_mask']],y_train_nlp,\n",
        "                    epochs=30, verbose=1, batch_size = 32,callbacks=callbacks, workers=-1, use_multiprocessing=False,sample_weight=sample_weights,\n",
        "                    validation_data=([output_tokenizer_val['input_ids'],output_tokenizer_val['attention_mask']],y_val_nlp))"
      ]
    },
    {
      "cell_type": "code",
      "execution_count": null,
      "metadata": {
        "colab": {
          "base_uri": "https://localhost:8080/",
          "height": 472
        },
        "id": "Jh9z-qg7LLLU",
        "outputId": "c29c0480-7ff0-44d7-b37c-256f97aa8a45"
      },
      "outputs": [
        {
          "data": {
            "image/png": "[encoded data removed]",
            "text/plain": [
              "<Figure size 640x480 with 1 Axes>"
            ]
          },
          "metadata": {},
          "output_type": "display_data"
        }
      ],
      "source": [
        "plt.plot(history.history['accuracy'])\n",
        "plt.plot(history.history['val_accuracy'])\n",
        "plt.title('Précision du modèle')\n",
        "plt.ylabel('Précision')\n",
        "plt.xlabel('Itération')\n",
        "plt.legend(['Entrainement', 'Test'], loc='upper left')\n",
        "plt.show()"
      ]
    },
    {
      "cell_type": "code",
      "execution_count": null,
      "metadata": {
        "colab": {
          "base_uri": "https://localhost:8080/"
        },
        "id": "iuDuJiJHLLLX",
        "outputId": "d3c99df2-1651-4f51-8ab9-4969347a0628"
      },
      "outputs": [
        {
          "name": "stdout",
          "output_type": "stream",
          "text": [
            "1/1 [==============================] - 0s 349ms/step\n"
          ]
        },
        {
          "data": {
            "text/plain": [
              "array(['ipc', 'hmi', 'communication', 'à catégoriser par un humain'],\n",
              "      dtype=object)"
            ]
          },
          "execution_count": 173,
          "metadata": {},
          "output_type": "execute_result"
        }
      ],
      "source": [
        "test1 = 'Remplacemetn ecran IPC'\n",
        "test2 = 'Ecran IPC figé'\n",
        "test3 = \"Perte de COM\"\n",
        "test4 = \"Dépassement temps de pesé IPC TARE\"\n",
        "prediction(model, LONGUEUR_MAX_COMMENTAIRE,[test1,test2,test3,test4])"
      ]
    },
    {
      "cell_type": "code",
      "execution_count": null,
      "metadata": {
        "colab": {
          "base_uri": "https://localhost:8080/"
        },
        "id": "Ac7wzYWtLLLZ",
        "outputId": "c0742e4b-21cf-4a40-bd2b-3670dbcfb4dc"
      },
      "outputs": [
        {
          "name": "stdout",
          "output_type": "stream",
          "text": [
            "4/4 [==============================] - 4s 961ms/step\n",
            "Macro F1 Score (Multi-label): 0.6598545659426932\n",
            "              precision    recall  f1-score   support\n",
            "\n",
            "           0       1.00      0.33      0.50         3\n",
            "           1       0.75      0.60      0.67         5\n",
            "           2       0.67      0.50      0.57        12\n",
            "           3       1.00      0.75      0.86         4\n",
            "           4       0.67      0.67      0.67         6\n",
            "           5       0.85      0.94      0.89        18\n",
            "           6       0.79      0.71      0.75        21\n",
            "           7       0.75      0.69      0.72        13\n",
            "           8       0.60      0.50      0.55         6\n",
            "           9       1.00      0.50      0.67         4\n",
            "          10       1.00      0.50      0.67         2\n",
            "          11       1.00      0.67      0.80         3\n",
            "          12       0.33      0.50      0.40         2\n",
            "          13       0.67      0.80      0.73         5\n",
            "          14       0.37      0.62      0.47        16\n",
            "\n",
            "    accuracy                           0.68       120\n",
            "   macro avg       0.76      0.62      0.66       120\n",
            "weighted avg       0.72      0.68      0.68       120\n",
            "\n"
          ]
        }
      ],
      "source": [
        "from sklearn.metrics import f1_score, precision_recall_fscore_support\n",
        "\n",
        "# Assuming you have trained your model and obtained predictions\n",
        "# Replace this with your actual test/validation data and predictions\n",
        "y_true = y_test_nlp.to_numpy().reshape(1,-1)\n",
        "y_pred = le.transform(prediction(model, LONGUEUR_MAX_COMMENTAIRE,X_test_nlp)).reshape(1,-1)\n",
        "\n",
        "\n",
        "# Flatten the multi-label data for f1_score calculation\n",
        "f1 = f1_score(y_true.ravel(), y_pred.ravel(), average='macro')\n",
        "\n",
        "print(\"Macro F1 Score (Multi-label):\", f1)\n",
        "from sklearn.metrics import classification_report\n",
        "\n",
        "y_true_flat = y_true.ravel()\n",
        "y_pred_flat = y_pred.ravel()\n",
        "\n",
        "# Use classification_report\n",
        "report = classification_report(y_true_flat, y_pred_flat)\n",
        "print(report)"
      ]
    },
    {
      "cell_type": "code",
      "execution_count": null,
      "metadata": {
        "colab": {
          "base_uri": "https://localhost:8080/"
        },
        "id": "qwvoeGEXLLLi",
        "outputId": "887face3-19ee-4925-dd7d-32ff0e880a0f"
      },
      "outputs": [
        {
          "name": "stderr",
          "output_type": "stream",
          "text": [
            "/home/apprenant/miniconda3/envs/nlp_fail/lib/python3.10/site-packages/keras/src/engine/training.py:3079: UserWarning: You are saving your model as an HDF5 file via `model.save()`. This file format is considered legacy. We recommend using instead the native Keras format, e.g. `model.save('my_model.keras')`.\n",
            "  saving_api.save_model(\n"
          ]
        }
      ],
      "source": [
        "model_path = \"./save_model/\"\n",
        "date = datetime.now()\n",
        "model.save(model_path+f\"nlp_nb_class_{nb_targets}_{date}.h5\")"
      ]
    },
    {
      "cell_type": "code",
      "execution_count": null,
      "metadata": {},
      "outputs": [
        {
          "name": "stdout",
          "output_type": "stream",
          "text": [
            "Model: \"model_1\"\n",
            "__________________________________________________________________________________________________\n",
            " Layer (type)                Output Shape                 Param #   Connected to                  \n",
            "==================================================================================================\n",
            " input_token (InputLayer)    [(None, 40)]                 0         []                            \n",
            "                                                                                                  \n",
            " masked_token (InputLayer)   [(None, 40)]                 0         []                            \n",
            "                                                                                                  \n",
            " tf_camembert_model_2 (TFCa  TFBaseModelOutputWithPooli   1106219   ['input_token[0][0]',         \n",
            " membertModel)               ngAndCrossAttentions(last_   52         'masked_token[0][0]']        \n",
            "                             hidden_state=(None, 40, 76                                           \n",
            "                             8),                                                                  \n",
            "                              pooler_output=(None, 768)                                           \n",
            "                             , past_key_values=None, hi                                           \n",
            "                             dden_states=None, attentio                                           \n",
            "                             ns=None, cross_attentions=                                           \n",
            "                             None)                                                                \n",
            "                                                                                                  \n",
            " dense (Dense)               (None, 15)                   11535     ['tf_camembert_model_2[0][1]']\n",
            "                                                                                                  \n",
            "==================================================================================================\n",
            "Total params: 110633487 (422.03 MB)\n",
            "Trainable params: 110633487 (422.03 MB)\n",
            "Non-trainable params: 0 (0.00 Byte)\n",
            "__________________________________________________________________________________________________\n"
          ]
        }
      ],
      "source": [
        "custom_objects = {'TFCamembertModel': TFCamembertModel}\n",
        "model_path =  \"save_model/nlp_nb_class_15_2023-11-23 09 22 54.921757.h5\"\n",
        "loaded_model = tf.keras.models.load_model(model_path, custom_objects=custom_objects)\n",
        "\n",
        "loaded_model.summary()"
      ]
    },
    {
      "cell_type": "code",
      "execution_count": null,
      "metadata": {},
      "outputs": [
        {
          "name": "stdout",
          "output_type": "stream",
          "text": [
            "1/1 [==============================] - 4s 4s/step\n"
          ]
        },
        {
          "data": {
            "text/plain": [
              "array(['poste bouchonnage', 'hmi', 'communication',\n",
              "       'à catégoriser par un humain'], dtype=object)"
            ]
          },
          "execution_count": 175,
          "metadata": {},
          "output_type": "execute_result"
        }
      ],
      "source": [
        "test1 = 'Remplacemetn ecran IPC'\n",
        "test2 = 'Ecran IPC figé'\n",
        "test3 = \"Perte de COM\"\n",
        "test4 = \"Dépassement temps de pesé IPC TARE\"\n",
        "prediction(loaded_model, LONGUEUR_MAX_COMMENTAIRE,[test1,test2,test3,test4])"
      ]
    },
    {
      "cell_type": "code",
      "execution_count": null,
      "metadata": {},
      "outputs": [
        {
          "name": "stdout",
          "output_type": "stream",
          "text": [
            "4/4 [==============================] - 5s 1s/step\n",
            "Macro F1 Score (Multi-label): 0.6518891480784063\n"
          ]
        }
      ],
      "source": [
        "from sklearn.metrics import f1_score, precision_recall_fscore_support\n",
        "\n",
        "# Assuming you have trained your model and obtained predictions\n",
        "# Replace this with your actual test/validation data and predictions\n",
        "y_true = y_test_nlp.to_numpy().reshape(1,-1)\n",
        "y_pred = le.transform(prediction(loaded_model, LONGUEUR_MAX_COMMENTAIRE,X_test_nlp)).reshape(1,-1)\n",
        "\n",
        "\n",
        "# Flatten the multi-label data for f1_score calculation\n",
        "f1 = f1_score(y_true.ravel(), y_pred.ravel(), average='macro')\n",
        "\n",
        "print(\"Macro F1 Score (Multi-label):\", f1)"
      ]
    },
    {
      "cell_type": "code",
      "execution_count": null,
      "metadata": {},
      "outputs": [
        {
          "name": "stdout",
          "output_type": "stream",
          "text": [
            "              precision    recall  f1-score   support\n",
            "\n",
            "           0       1.00      0.33      0.50         3\n",
            "           1       0.60      0.60      0.60         5\n",
            "           2       0.55      0.50      0.52        12\n",
            "           3       0.75      0.75      0.75         4\n",
            "           4       0.57      0.67      0.62         6\n",
            "           5       0.71      0.83      0.77        18\n",
            "           6       0.70      0.76      0.73        21\n",
            "           7       0.80      0.62      0.70        13\n",
            "           8       0.60      0.50      0.55         6\n",
            "           9       0.67      0.50      0.57         4\n",
            "          10       1.00      0.50      0.67         2\n",
            "          11       1.00      1.00      1.00         3\n",
            "          12       0.50      0.50      0.50         2\n",
            "          13       0.67      0.80      0.73         5\n",
            "          14       0.56      0.62      0.59        16\n",
            "\n",
            "    accuracy                           0.67       120\n",
            "   macro avg       0.71      0.63      0.65       120\n",
            "weighted avg       0.68      0.67      0.66       120\n",
            "\n"
          ]
        }
      ],
      "source": [
        "\n",
        "y_true_flat = y_true.ravel()\n",
        "y_pred_flat = y_pred.ravel()\n",
        "\n",
        "# Use classification_report\n",
        "report = classification_report(y_true_flat, y_pred_flat)\n",
        "print(report)"
      ]
    }
  ],
  "metadata": {
    "accelerator": "GPU",
    "colab": {
      "gpuType": "T4",
      "provenance": []
    },
    "kernelspec": {
      "display_name": "Python 3",
      "name": "python3"
    },
    "language_info": {
      "codemirror_mode": {
        "name": "ipython",
        "version": 3
      },
      "file_extension": ".py",
      "mimetype": "text/x-python",
      "name": "python",
      "nbconvert_exporter": "python",
      "pygments_lexer": "ipython3",
      "version": "3.9.12"
    }
  },
  "nbformat": 4,
  "nbformat_minor": 0
}
