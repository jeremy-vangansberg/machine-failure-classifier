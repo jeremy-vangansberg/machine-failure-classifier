{
 "cells": [
  {
   "cell_type": "code",
   "execution_count": 192,
   "metadata": {},
   "outputs": [],
   "source": [
    "from datetime import datetime\n",
    "import numpy as np\n",
    "import pandas as pd\n",
    "import matplotlib.pyplot as plt\n",
    "\n",
    "from sklearn.model_selection import train_test_split\n",
    "\n",
    "import tensorflow as tf\n",
    "from tensorflow import keras\n",
    "from tensorflow.keras import Sequential\n",
    "from tensorflow.keras.layers import Dense, Dropout, Input, Dropout, Lambda\n",
    "from tensorflow.keras.models import Model\n",
    "from tensorflow.keras.optimizers import Adam\n",
    "from transformers import TFCamembertModel, CamembertTokenizer, CamembertConfig,TFBertModel,CamembertTokenizer, TFCamembertForSequenceClassification\n",
    "keras.backend.clear_session()\n",
    "tf.random.set_seed(42)\n",
    "np.random.seed(42)"
   ]
  },
  {
   "cell_type": "code",
   "execution_count": 193,
   "metadata": {},
   "outputs": [
    {
     "data": {
      "text/plain": [
       "Index(['description', 'activity_text', 's-ens', 'cat'], dtype='object')"
      ]
     },
     "execution_count": 193,
     "metadata": {},
     "output_type": "execute_result"
    }
   ],
   "source": [
    "df = pd.read_excel(io=\"./data/historique_interventions_IA.xlsx\", sheet_name=\"liste inter CATEGORISEES LIGHT\")\n",
    "df.columns = [title.lower().replace(\" \", \"_\") for title in df.columns]\n",
    "df.columns"
   ]
  },
  {
   "cell_type": "code",
   "execution_count": 194,
   "metadata": {},
   "outputs": [],
   "source": [
    "df['s-ens_cleaned'] = df['s-ens'].str.lower()\n",
    "df = df[['description','s-ens_cleaned']]\n",
    "df.dropna(inplace=True)\n",
    "df.columns = ['description', \"labels\"]"
   ]
  },
  {
   "cell_type": "code",
   "execution_count": 195,
   "metadata": {},
   "outputs": [
    {
     "data": {
      "text/html": [
       "<div>\n",
       "<style scoped>\n",
       "    .dataframe tbody tr th:only-of-type {\n",
       "        vertical-align: middle;\n",
       "    }\n",
       "\n",
       "    .dataframe tbody tr th {\n",
       "        vertical-align: top;\n",
       "    }\n",
       "\n",
       "    .dataframe thead th {\n",
       "        text-align: right;\n",
       "    }\n",
       "</style>\n",
       "<table border=\"1\" class=\"dataframe\">\n",
       "  <thead>\n",
       "    <tr style=\"text-align: right;\">\n",
       "      <th></th>\n",
       "      <th>labels</th>\n",
       "      <th>description</th>\n",
       "    </tr>\n",
       "  </thead>\n",
       "  <tbody>\n",
       "    <tr>\n",
       "      <th>0</th>\n",
       "      <td>autom</td>\n",
       "      <td>13</td>\n",
       "    </tr>\n",
       "    <tr>\n",
       "      <th>1</th>\n",
       "      <td>barre ionisante</td>\n",
       "      <td>3</td>\n",
       "    </tr>\n",
       "    <tr>\n",
       "      <th>2</th>\n",
       "      <td>bi</td>\n",
       "      <td>5</td>\n",
       "    </tr>\n",
       "    <tr>\n",
       "      <th>3</th>\n",
       "      <td>bol bouchon</td>\n",
       "      <td>25</td>\n",
       "    </tr>\n",
       "    <tr>\n",
       "      <th>4</th>\n",
       "      <td>cellules</td>\n",
       "      <td>61</td>\n",
       "    </tr>\n",
       "    <tr>\n",
       "      <th>5</th>\n",
       "      <td>climet</td>\n",
       "      <td>6</td>\n",
       "    </tr>\n",
       "    <tr>\n",
       "      <th>6</th>\n",
       "      <td>communication</td>\n",
       "      <td>18</td>\n",
       "    </tr>\n",
       "    <tr>\n",
       "      <th>7</th>\n",
       "      <td>convoyeur entrée</td>\n",
       "      <td>9</td>\n",
       "    </tr>\n",
       "    <tr>\n",
       "      <th>8</th>\n",
       "      <td>convoyeur principal</td>\n",
       "      <td>30</td>\n",
       "    </tr>\n",
       "    <tr>\n",
       "      <th>9</th>\n",
       "      <td>courroie</td>\n",
       "      <td>1</td>\n",
       "    </tr>\n",
       "    <tr>\n",
       "      <th>10</th>\n",
       "      <td>cuve bouchons</td>\n",
       "      <td>1</td>\n",
       "    </tr>\n",
       "    <tr>\n",
       "      <th>11</th>\n",
       "      <td>etoile entrée</td>\n",
       "      <td>1</td>\n",
       "    </tr>\n",
       "    <tr>\n",
       "      <th>12</th>\n",
       "      <td>ev</td>\n",
       "      <td>5</td>\n",
       "    </tr>\n",
       "    <tr>\n",
       "      <th>13</th>\n",
       "      <td>format</td>\n",
       "      <td>10</td>\n",
       "    </tr>\n",
       "    <tr>\n",
       "      <th>14</th>\n",
       "      <td>hmi</td>\n",
       "      <td>90</td>\n",
       "    </tr>\n",
       "    <tr>\n",
       "      <th>15</th>\n",
       "      <td>ipc</td>\n",
       "      <td>103</td>\n",
       "    </tr>\n",
       "    <tr>\n",
       "      <th>16</th>\n",
       "      <td>jog</td>\n",
       "      <td>4</td>\n",
       "    </tr>\n",
       "    <tr>\n",
       "      <th>17</th>\n",
       "      <td>pesée</td>\n",
       "      <td>9</td>\n",
       "    </tr>\n",
       "    <tr>\n",
       "      <th>18</th>\n",
       "      <td>porte</td>\n",
       "      <td>1</td>\n",
       "    </tr>\n",
       "    <tr>\n",
       "      <th>19</th>\n",
       "      <td>poste bouchonnage</td>\n",
       "      <td>67</td>\n",
       "    </tr>\n",
       "    <tr>\n",
       "      <th>20</th>\n",
       "      <td>poste remplissage</td>\n",
       "      <td>28</td>\n",
       "    </tr>\n",
       "    <tr>\n",
       "      <th>21</th>\n",
       "      <td>roue entrée</td>\n",
       "      <td>8</td>\n",
       "    </tr>\n",
       "    <tr>\n",
       "      <th>22</th>\n",
       "      <td>roue sortie</td>\n",
       "      <td>22</td>\n",
       "    </tr>\n",
       "    <tr>\n",
       "      <th>23</th>\n",
       "      <td>servo commande</td>\n",
       "      <td>11</td>\n",
       "    </tr>\n",
       "    <tr>\n",
       "      <th>24</th>\n",
       "      <td>soufflet</td>\n",
       "      <td>7</td>\n",
       "    </tr>\n",
       "    <tr>\n",
       "      <th>25</th>\n",
       "      <td>table tournante</td>\n",
       "      <td>17</td>\n",
       "    </tr>\n",
       "    <tr>\n",
       "      <th>26</th>\n",
       "      <td>tapis entrée</td>\n",
       "      <td>5</td>\n",
       "    </tr>\n",
       "    <tr>\n",
       "      <th>27</th>\n",
       "      <td>tiroir</td>\n",
       "      <td>2</td>\n",
       "    </tr>\n",
       "    <tr>\n",
       "      <th>28</th>\n",
       "      <td>tremie</td>\n",
       "      <td>12</td>\n",
       "    </tr>\n",
       "    <tr>\n",
       "      <th>29</th>\n",
       "      <td>vis sans fin</td>\n",
       "      <td>24</td>\n",
       "    </tr>\n",
       "  </tbody>\n",
       "</table>\n",
       "</div>"
      ],
      "text/plain": [
       "                  labels  description\n",
       "0                  autom           13\n",
       "1        barre ionisante            3\n",
       "2                     bi            5\n",
       "3            bol bouchon           25\n",
       "4              cellules            61\n",
       "5                 climet            6\n",
       "6          communication           18\n",
       "7       convoyeur entrée            9\n",
       "8   convoyeur principal            30\n",
       "9               courroie            1\n",
       "10         cuve bouchons            1\n",
       "11         etoile entrée            1\n",
       "12                    ev            5\n",
       "13                format           10\n",
       "14                   hmi           90\n",
       "15                   ipc          103\n",
       "16                   jog            4\n",
       "17                 pesée            9\n",
       "18                 porte            1\n",
       "19     poste bouchonnage           67\n",
       "20     poste remplissage           28\n",
       "21           roue entrée            8\n",
       "22          roue sortie            22\n",
       "23        servo commande           11\n",
       "24              soufflet            7\n",
       "25       table tournante           17\n",
       "26          tapis entrée            5\n",
       "27                tiroir            2\n",
       "28               tremie            12\n",
       "29          vis sans fin           24"
      ]
     },
     "metadata": {},
     "output_type": "display_data"
    }
   ],
   "source": [
    "count = df.groupby('labels').count().reset_index()\n",
    "\n",
    "nb_min_to_keep = 10 \n",
    "\n",
    "result = count[count['description'] > nb_min_to_keep]\n",
    "result['labels']\n",
    "nb_targets = result['labels'].nunique()\n",
    "display(count)"
   ]
  },
  {
   "cell_type": "code",
   "execution_count": 196,
   "metadata": {},
   "outputs": [],
   "source": [
    "list_label_to_keep = result['labels'].unique()"
   ]
  },
  {
   "cell_type": "code",
   "execution_count": 197,
   "metadata": {},
   "outputs": [],
   "source": [
    "df = df[df['labels'].isin(list_label_to_keep)]"
   ]
  },
  {
   "cell_type": "code",
   "execution_count": 198,
   "metadata": {},
   "outputs": [],
   "source": [
    "from sklearn.preprocessing import LabelEncoder\n",
    "from sklearn.model_selection import train_test_split\n",
    "import pickle\n",
    "# Création de l'encodeur\n",
    "le = LabelEncoder()\n",
    "nb_targets = df['labels'].nunique()\n",
    "# Entraînement de l'encodeur et transformation des labels\n",
    "df['labels_encoded'] = le.fit_transform(df['labels'])\n",
    "\n",
    "y = df['labels_encoded']\n",
    "\n",
    "\n",
    "filename = './save_model/labelencoder.pkl'\n",
    "pickle.dump(le, open(filename, 'wb'))\n",
    "\n",
    "\n",
    "X_train_nlp, X_test_nlp, y_train_nlp, y_test_nlp = train_test_split(np.array(df['description']), y,\n",
    "                                                   test_size=0.2,\n",
    "                                                   random_state = 0,\n",
    "                                                   stratify=y,\n",
    "                                                   shuffle=True)\n",
    "X_train_nlp, X_val_nlp, y_train_nlp, y_val_nlp = train_test_split(np.array(X_train_nlp), np.array(y_train_nlp),\n",
    "                                                   test_size=0.1,\n",
    "                                                   random_state = 0,\n",
    "                                                   stratify=y_train_nlp,\n",
    "                                                   shuffle=True)"
   ]
  },
  {
   "cell_type": "code",
   "execution_count": 199,
   "metadata": {},
   "outputs": [
    {
     "name": "stderr",
     "output_type": "stream",
     "text": [
      "Some layers from the model checkpoint at jplu/tf-camembert-base were not used when initializing TFCamembertModel: ['lm_head']\n",
      "- This IS expected if you are initializing TFCamembertModel from the checkpoint of a model trained on another task or with another architecture (e.g. initializing a BertForSequenceClassification model from a BertForPreTraining model).\n",
      "- This IS NOT expected if you are initializing TFCamembertModel from the checkpoint of a model that you expect to be exactly identical (initializing a BertForSequenceClassification model from a BertForSequenceClassification model).\n",
      "All the layers of TFCamembertModel were initialized from the model checkpoint at jplu/tf-camembert-base.\n",
      "If your task is similar to the task the model of the checkpoint was trained on, you can already use TFCamembertModel for predictions without further training.\n"
     ]
    }
   ],
   "source": [
    "tokenizer = CamembertTokenizer(\"./save_model/tokenizer_model.model\")\n",
    "\n",
    "model = TFCamembertModel.from_pretrained(\"jplu/tf-camembert-base\",num_labels=nb_targets)\n",
    "LONGUEUR_MAX_COMMENTAIRE = df.description.str.len().max()\n",
    "output_tokenizer_entrainement = tokenizer(list(X_train_nlp),max_length=LONGUEUR_MAX_COMMENTAIRE, padding='max_length', truncation=False, return_tensors='tf',add_special_tokens=True)\n",
    "output_tokenizer_tests = tokenizer(list(X_test_nlp),max_length=LONGUEUR_MAX_COMMENTAIRE, padding='max_length', truncation=False, return_tensors='tf',add_special_tokens=True)\n",
    "output_tokenizer_val = tokenizer(list(X_val_nlp),max_length=LONGUEUR_MAX_COMMENTAIRE, padding='max_length', truncation=False, return_tensors='tf',add_special_tokens=True)"
   ]
  },
  {
   "cell_type": "code",
   "execution_count": 200,
   "metadata": {},
   "outputs": [
    {
     "name": "stdout",
     "output_type": "stream",
     "text": [
      "Model: \"model\"\n",
      "__________________________________________________________________________________________________\n",
      " Layer (type)                Output Shape                 Param #   Connected to                  \n",
      "==================================================================================================\n",
      " input_token (InputLayer)    [(None, 40)]                 0         []                            \n",
      "                                                                                                  \n",
      " masked_token (InputLayer)   [(None, 40)]                 0         []                            \n",
      "                                                                                                  \n",
      " tf_camembert_model (TFCame  TFBaseModelOutputWithPooli   1106219   ['input_token[0][0]',         \n",
      " mbertModel)                 ngAndCrossAttentions(last_   52         'masked_token[0][0]']        \n",
      "                             hidden_state=(None, 40, 76                                           \n",
      "                             8),                                                                  \n",
      "                              pooler_output=(None, 768)                                           \n",
      "                             , past_key_values=None, hi                                           \n",
      "                             dden_states=None, attentio                                           \n",
      "                             ns=None, cross_attentions=                                           \n",
      "                             None)                                                                \n",
      "                                                                                                  \n",
      "==================================================================================================\n",
      "Total params: 110621952 (421.99 MB)\n",
      "Trainable params: 0 (0.00 Byte)\n",
      "Non-trainable params: 110621952 (421.99 MB)\n",
      "__________________________________________________________________________________________________\n"
     ]
    }
   ],
   "source": [
    "entrees_ids = tf.keras.layers.Input(shape=(LONGUEUR_MAX_COMMENTAIRE,), name='input_token', dtype='int32')\n",
    "entrees_masks = tf.keras.layers.Input(shape=(LONGUEUR_MAX_COMMENTAIRE,), name='masked_token', dtype='int32')\n",
    "sortie_camemBERT = model([entrees_ids,entrees_masks])\n",
    "\n",
    "# Instanciation du modèle avec Keras\n",
    "model_camemBERT = tf.keras.Model(inputs=[entrees_ids, entrees_masks], outputs = sortie_camemBERT,trainable=False)\n",
    "model_camemBERT.summary()"
   ]
  },
  {
   "cell_type": "code",
   "execution_count": 201,
   "metadata": {},
   "outputs": [
    {
     "name": "stdout",
     "output_type": "stream",
     "text": [
      "Model: \"model_1\"\n",
      "__________________________________________________________________________________________________\n",
      " Layer (type)                Output Shape                 Param #   Connected to                  \n",
      "==================================================================================================\n",
      " input_token (InputLayer)    [(None, 40)]                 0         []                            \n",
      "                                                                                                  \n",
      " masked_token (InputLayer)   [(None, 40)]                 0         []                            \n",
      "                                                                                                  \n"
     ]
    },
    {
     "name": "stdout",
     "output_type": "stream",
     "text": [
      " tf_camembert_model (TFCame  TFBaseModelOutputWithPooli   1106219   ['input_token[0][0]',         \n",
      " mbertModel)                 ngAndCrossAttentions(last_   52         'masked_token[0][0]']        \n",
      "                             hidden_state=(None, 40, 76                                           \n",
      "                             8),                                                                  \n",
      "                              pooler_output=(None, 768)                                           \n",
      "                             , past_key_values=None, hi                                           \n",
      "                             dden_states=None, attentio                                           \n",
      "                             ns=None, cross_attentions=                                           \n",
      "                             None)                                                                \n",
      "                                                                                                  \n",
      " dense (Dense)               (None, 14)                   10766     ['tf_camembert_model[0][1]']  \n",
      "                                                                                                  \n",
      "==================================================================================================\n",
      "Total params: 110632718 (422.03 MB)\n",
      "Trainable params: 10766 (42.05 KB)\n",
      "Non-trainable params: 110621952 (421.99 MB)\n",
      "__________________________________________________________________________________________________\n"
     ]
    }
   ],
   "source": [
    "output = Dense(nb_targets, activation='softmax')(sortie_camemBERT[1])  # Use pooled representation\n",
    "model = tf.keras.Model(inputs=[entrees_ids, entrees_masks], outputs=output)\n",
    "model.layers[2].trainable = False  # Disable training of CamemBERT\n",
    "\n",
    "model.compile(loss='sparse_categorical_crossentropy', optimizer=Adam(1e-2), metrics=['accuracy'])\n",
    "model.summary()"
   ]
  },
  {
   "cell_type": "code",
   "execution_count": 202,
   "metadata": {},
   "outputs": [
    {
     "name": "stdout",
     "output_type": "stream",
     "text": [
      "Epoch 1/10\n",
      "187/187 [==============================] - 33s 139ms/step - loss: 2.5582 - accuracy: 0.2193 - val_loss: 2.2965 - val_accuracy: 0.3095\n",
      "Epoch 2/10\n",
      "187/187 [==============================] - 24s 127ms/step - loss: 2.2506 - accuracy: 0.3075 - val_loss: 2.0765 - val_accuracy: 0.3810\n",
      "Epoch 3/10\n",
      "187/187 [==============================] - 23s 125ms/step - loss: 2.0433 - accuracy: 0.3904 - val_loss: 1.9651 - val_accuracy: 0.3333\n",
      "Epoch 4/10\n",
      "187/187 [==============================] - 23s 124ms/step - loss: 1.8415 - accuracy: 0.4439 - val_loss: 1.9292 - val_accuracy: 0.3810\n",
      "Epoch 5/10\n",
      "187/187 [==============================] - 23s 125ms/step - loss: 1.8130 - accuracy: 0.4305 - val_loss: 1.8146 - val_accuracy: 0.4048\n",
      "Epoch 6/10\n",
      "187/187 [==============================] - 23s 125ms/step - loss: 1.6309 - accuracy: 0.5241 - val_loss: 1.7963 - val_accuracy: 0.5000\n",
      "Epoch 7/10\n",
      "187/187 [==============================] - 23s 125ms/step - loss: 1.6216 - accuracy: 0.4599 - val_loss: 1.7204 - val_accuracy: 0.5000\n",
      "Epoch 8/10\n",
      "187/187 [==============================] - 23s 125ms/step - loss: 1.5102 - accuracy: 0.5428 - val_loss: 1.7517 - val_accuracy: 0.4524\n",
      "Epoch 9/10\n",
      "187/187 [==============================] - 24s 126ms/step - loss: 1.4191 - accuracy: 0.5374 - val_loss: 1.5988 - val_accuracy: 0.5000\n",
      "Epoch 10/10\n",
      "187/187 [==============================] - 24s 126ms/step - loss: 1.4433 - accuracy: 0.5535 - val_loss: 1.5020 - val_accuracy: 0.5476\n"
     ]
    }
   ],
   "source": [
    "early = keras.callbacks.EarlyStopping(monitor='val_loss', patience=5, restore_best_weights=True)\n",
    "\n",
    "callbacks=[early]\n",
    "history = model.fit([output_tokenizer_entrainement['input_ids'],output_tokenizer_entrainement['attention_mask']],y_train_nlp,\n",
    "                    epochs=10, verbose=1, batch_size = 2,callbacks=callbacks, workers=-1, \n",
    "                    validation_data=([output_tokenizer_val['input_ids'],output_tokenizer_val['attention_mask']],y_val_nlp))"
   ]
  },
  {
   "cell_type": "code",
   "execution_count": 203,
   "metadata": {},
   "outputs": [
    {
     "data": {
      "image/png": "[encoded data removed]",
      "text/plain": [
       "<Figure size 640x480 with 1 Axes>"
      ]
     },
     "metadata": {},
     "output_type": "display_data"
    }
   ],
   "source": [
    "plt.plot(history.history['accuracy'])\n",
    "plt.plot(history.history['val_accuracy'])\n",
    "plt.title('Précision du modèle')\n",
    "plt.ylabel('Précision')\n",
    "plt.xlabel('Itération')\n",
    "plt.legend(['Entrainement', 'Test'], loc='upper left')\n",
    "plt.show()\n"
   ]
  },
  {
   "cell_type": "code",
   "execution_count": 204,
   "metadata": {},
   "outputs": [
    {
     "name": "stdout",
     "output_type": "stream",
     "text": [
      "Model: \"model_1\"\n",
      "__________________________________________________________________________________________________\n",
      " Layer (type)                Output Shape                 Param #   Connected to                  \n",
      "==================================================================================================\n",
      " input_token (InputLayer)    [(None, 40)]                 0         []                            \n",
      "                                                                                                  \n",
      " masked_token (InputLayer)   [(None, 40)]                 0         []                            \n",
      "                                                                                                  \n",
      " tf_camembert_model (TFCame  TFBaseModelOutputWithPooli   1106219   ['input_token[0][0]',         \n",
      " mbertModel)                 ngAndCrossAttentions(last_   52         'masked_token[0][0]']        \n",
      "                             hidden_state=(None, 40, 76                                           \n",
      "                             8),                                                                  \n",
      "                              pooler_output=(None, 768)                                           \n",
      "                             , past_key_values=None, hi                                           \n",
      "                             dden_states=None, attentio                                           \n",
      "                             ns=None, cross_attentions=                                           \n",
      "                             None)                                                                \n",
      "                                                                                                  \n",
      " dense (Dense)               (None, 14)                   10766     ['tf_camembert_model[0][1]']  \n",
      "                                                                                                  \n",
      "==================================================================================================\n",
      "Total params: 110632718 (422.03 MB)\n",
      "Trainable params: 110632718 (422.03 MB)\n",
      "Non-trainable params: 0 (0.00 Byte)\n",
      "__________________________________________________________________________________________________\n"
     ]
    }
   ],
   "source": [
    "model.layers[2].trainable = True\n",
    "model.compile(loss='sparse_categorical_crossentropy', optimizer=Adam(1e-7), metrics=['accuracy'])\n",
    "model.summary()"
   ]
  },
  {
   "cell_type": "code",
   "execution_count": 205,
   "metadata": {},
   "outputs": [
    {
     "name": "stdout",
     "output_type": "stream",
     "text": [
      "Epoch 1/20\n",
      "47/47 [==============================] - 108s 2s/step - loss: 1.2684 - accuracy: 0.6203 - val_loss: 1.4771 - val_accuracy: 0.5952\n",
      "Epoch 2/20\n",
      "47/47 [==============================] - 80s 2s/step - loss: 1.2555 - accuracy: 0.6203 - val_loss: 1.4554 - val_accuracy: 0.5714\n",
      "Epoch 3/20\n",
      "47/47 [==============================] - 79s 2s/step - loss: 1.1754 - accuracy: 0.6604 - val_loss: 1.4379 - val_accuracy: 0.5714\n",
      "Epoch 4/20\n",
      "47/47 [==============================] - 80s 2s/step - loss: 1.2009 - accuracy: 0.6444 - val_loss: 1.4248 - val_accuracy: 0.5714\n",
      "Epoch 5/20\n",
      "47/47 [==============================] - 79s 2s/step - loss: 1.1462 - accuracy: 0.6524 - val_loss: 1.4124 - val_accuracy: 0.5952\n",
      "Epoch 6/20\n",
      "47/47 [==============================] - 79s 2s/step - loss: 1.1443 - accuracy: 0.6738 - val_loss: 1.4010 - val_accuracy: 0.5952\n",
      "Epoch 7/20\n",
      "47/47 [==============================] - 79s 2s/step - loss: 1.1348 - accuracy: 0.6524 - val_loss: 1.3912 - val_accuracy: 0.5952\n",
      "Epoch 8/20\n",
      "47/47 [==============================] - 79s 2s/step - loss: 1.1709 - accuracy: 0.6337 - val_loss: 1.3824 - val_accuracy: 0.5952\n",
      "Epoch 9/20\n",
      "47/47 [==============================] - 80s 2s/step - loss: 1.1266 - accuracy: 0.6791 - val_loss: 1.3739 - val_accuracy: 0.5952\n",
      "Epoch 10/20\n",
      "47/47 [==============================] - 79s 2s/step - loss: 1.1248 - accuracy: 0.6684 - val_loss: 1.3647 - val_accuracy: 0.5952\n",
      "Epoch 11/20\n",
      "47/47 [==============================] - 79s 2s/step - loss: 1.1968 - accuracy: 0.6497 - val_loss: 1.3570 - val_accuracy: 0.5952\n",
      "Epoch 12/20\n",
      "47/47 [==============================] - 79s 2s/step - loss: 1.1836 - accuracy: 0.6390 - val_loss: 1.3496 - val_accuracy: 0.5952\n",
      "Epoch 13/20\n",
      "47/47 [==============================] - 79s 2s/step - loss: 1.1110 - accuracy: 0.6417 - val_loss: 1.3415 - val_accuracy: 0.5952\n",
      "Epoch 14/20\n",
      "47/47 [==============================] - 79s 2s/step - loss: 1.1283 - accuracy: 0.6711 - val_loss: 1.3349 - val_accuracy: 0.5952\n",
      "Epoch 15/20\n",
      "47/47 [==============================] - 79s 2s/step - loss: 1.1638 - accuracy: 0.6337 - val_loss: 1.3286 - val_accuracy: 0.5952\n",
      "Epoch 16/20\n",
      "47/47 [==============================] - 79s 2s/step - loss: 1.1457 - accuracy: 0.6684 - val_loss: 1.3219 - val_accuracy: 0.5952\n",
      "Epoch 17/20\n",
      "28/47 [================>.............] - ETA: 31s - loss: 1.0961 - accuracy: 0.6518"
     ]
    }
   ],
   "source": [
    "history = model.fit([output_tokenizer_entrainement['input_ids'],output_tokenizer_entrainement['attention_mask']],y_train_nlp,\n",
    "                    epochs=20, verbose=1, batch_size = 8,callbacks=callbacks, workers=-1, use_multiprocessing=False,\n",
    "                    validation_data=([output_tokenizer_val['input_ids'],output_tokenizer_val['attention_mask']],y_val_nlp))"
   ]
  },
  {
   "cell_type": "code",
   "execution_count": null,
   "metadata": {},
   "outputs": [
    {
     "data": {
      "image/png": "[encoded data removed]",
      "text/plain": [
       "<Figure size 640x480 with 1 Axes>"
      ]
     },
     "metadata": {},
     "output_type": "display_data"
    }
   ],
   "source": [
    "plt.plot(history.history['accuracy'])\n",
    "plt.plot(history.history['val_accuracy'])\n",
    "plt.title('Précision du modèle')\n",
    "plt.ylabel('Précision')\n",
    "plt.xlabel('Itération')\n",
    "plt.legend(['Entrainement', 'Test'], loc='upper left')\n",
    "plt.show()\n"
   ]
  },
  {
   "cell_type": "code",
   "execution_count": null,
   "metadata": {},
   "outputs": [],
   "source": [
    "def encode_texts(texts, tokenizer, max_seq_length):\n",
    "    input_ids = []\n",
    "\n",
    "    encoded = tokenizer(texts,max_length=max_seq_length, padding='max_length', truncation=False, return_tensors='tf',add_special_tokens=True)\n",
    "    input_ids.append([encoded[\"input_ids\"],encoded[\"attention_mask\"]])\n",
    "    return input_ids\n",
    "\n",
    "def prediction(model, max_seq_length, *args) :\n",
    "    texts = list(*args)\n",
    "    to_test = encode_texts(texts=texts, tokenizer=tokenizer, max_seq_length=max_seq_length)\n",
    "    proba = model.predict(*to_test)\n",
    "    indexes = np.argmax(proba, axis=1)\n",
    "    return le.inverse_transform(indexes)"
   ]
  },
  {
   "cell_type": "code",
   "execution_count": null,
   "metadata": {},
   "outputs": [
    {
     "name": "stdout",
     "output_type": "stream",
     "text": [
      "1/1 [==============================] - 4s 4s/step\n"
     ]
    },
    {
     "data": {
      "text/plain": [
       "array(['hmi', 'ipc', 'communication'], dtype=object)"
      ]
     },
     "execution_count": 176,
     "metadata": {},
     "output_type": "execute_result"
    }
   ],
   "source": [
    "text_test = 'Défaut de com HMI IPC.'\n",
    "test1 = 'Ecran IPC'\n",
    "test2 = 'defaut communication sur hmi ipc'\n",
    "prediction(model, LONGUEUR_MAX_COMMENTAIRE,[text_test,test1,test2])"
   ]
  },
  {
   "cell_type": "code",
   "execution_count": null,
   "metadata": {},
   "outputs": [
    {
     "name": "stdout",
     "output_type": "stream",
     "text": [
      "4/4 [==============================] - 4s 855ms/step\n",
      "Macro F1 Score (Multi-label): 0.5643769385148697\n"
     ]
    }
   ],
   "source": [
    "from sklearn.metrics import f1_score, precision_recall_fscore_support\n",
    "\n",
    "# Assuming you have trained your model and obtained predictions\n",
    "# Replace this with your actual test/validation data and predictions\n",
    "y_true = y_test_nlp.to_numpy().reshape(1,-1)\n",
    "y_pred = le.transform(prediction(model, LONGUEUR_MAX_COMMENTAIRE,X_test_nlp)).reshape(1,-1)\n",
    "\n",
    "\n",
    "# Flatten the multi-label data for f1_score calculation\n",
    "f1 = f1_score(y_true.ravel(), y_pred.ravel(), average='macro')\n",
    "\n",
    "print(\"Macro F1 Score (Multi-label):\", f1)"
   ]
  },
  {
   "cell_type": "code",
   "execution_count": null,
   "metadata": {},
   "outputs": [
    {
     "name": "stdout",
     "output_type": "stream",
     "text": [
      "              precision    recall  f1-score   support\n",
      "\n",
      "           0       1.00      0.33      0.50         3\n",
      "           1       0.60      0.60      0.60         5\n",
      "           2       0.41      0.58      0.48        12\n",
      "           3       0.67      0.50      0.57         4\n",
      "           4       0.56      0.83      0.67         6\n",
      "           5       0.78      0.78      0.78        18\n",
      "           6       0.76      0.76      0.76        21\n",
      "           7       0.77      0.71      0.74        14\n",
      "           8       0.50      0.33      0.40         6\n",
      "           9       1.00      0.25      0.40         4\n",
      "          10       1.00      0.50      0.67         2\n",
      "          11       0.67      0.67      0.67         3\n",
      "          12       0.00      0.00      0.00         2\n",
      "          13       0.57      0.80      0.67         5\n",
      "\n",
      "    accuracy                           0.65       105\n",
      "   macro avg       0.66      0.55      0.56       105\n",
      "weighted avg       0.68      0.65      0.64       105\n",
      "\n"
     ]
    }
   ],
   "source": [
    "from sklearn.metrics import classification_report\n",
    "\n",
    "y_true_flat = y_true.ravel()\n",
    "y_pred_flat = y_pred.ravel()\n",
    "\n",
    "# Use classification_report\n",
    "report = classification_report(y_true_flat, y_pred_flat)\n",
    "print(report)"
   ]
  },
  {
   "cell_type": "code",
   "execution_count": null,
   "metadata": {},
   "outputs": [
    {
     "name": "stderr",
     "output_type": "stream",
     "text": [
      "/home/apprenant/miniconda3/envs/nlp_fail/lib/python3.10/site-packages/keras/src/engine/training.py:3079: UserWarning: You are saving your model as an HDF5 file via `model.save()`. This file format is considered legacy. We recommend using instead the native Keras format, e.g. `model.save('my_model.keras')`.\n",
      "  saving_api.save_model(\n"
     ]
    }
   ],
   "source": [
    "model_path = \"./save_model/\"\n",
    "date = datetime.now()\n",
    "model.save(model_path+f\"nlp_{nb_targets}_nb_class_{date}.h5\")"
   ]
  },
  {
   "cell_type": "code",
   "execution_count": null,
   "metadata": {},
   "outputs": [
    {
     "name": "stdout",
     "output_type": "stream",
     "text": [
      "Model: \"model_9\"\n",
      "__________________________________________________________________________________________________\n",
      " Layer (type)                Output Shape                 Param #   Connected to                  \n",
      "==================================================================================================\n",
      " input_token (InputLayer)    [(None, 40)]                 0         []                            \n",
      "                                                                                                  \n",
      " masked_token (InputLayer)   [(None, 40)]                 0         []                            \n",
      "                                                                                                  \n",
      " tf_camembert_model_3 (TFCa  TFBaseModelOutputWithPooli   1106219   ['input_token[0][0]',         \n",
      " membertModel)               ngAndCrossAttentions(last_   52         'masked_token[0][0]']        \n",
      "                             hidden_state=(None, 40, 76                                           \n",
      "                             8),                                                                  \n",
      "                              pooler_output=(None, 768)                                           \n",
      "                             , past_key_values=None, hi                                           \n",
      "                             dden_states=None, attentio                                           \n",
      "                             ns=None, cross_attentions=                                           \n",
      "                             None)                                                                \n",
      "                                                                                                  \n",
      " dense_4 (Dense)             (None, 14)                   10766     ['tf_camembert_model_3[0][1]']\n",
      "                                                                                                  \n",
      "==================================================================================================\n",
      "Total params: 110632718 (422.03 MB)\n",
      "Trainable params: 110632718 (422.03 MB)\n",
      "Non-trainable params: 0 (0.00 Byte)\n",
      "__________________________________________________________________________________________________\n"
     ]
    }
   ],
   "source": [
    "custom_objects = {'TFCamembertModel': TFCamembertModel}\n",
    "model_path =  \"save_model/nlp_14_nb_class_2023-11-21 21:05:49.799700.h5\"\n",
    "loaded_model = tf.keras.models.load_model(model_path, custom_objects=custom_objects)\n",
    "\n",
    "loaded_model.summary()"
   ]
  },
  {
   "cell_type": "code",
   "execution_count": null,
   "metadata": {},
   "outputs": [
    {
     "name": "stdout",
     "output_type": "stream",
     "text": [
      "1/1 [==============================] - 3s 3s/step\n"
     ]
    },
    {
     "data": {
      "text/plain": [
       "array(['ipc', 'hmi', 'communication'], dtype=object)"
      ]
     },
     "execution_count": 189,
     "metadata": {},
     "output_type": "execute_result"
    }
   ],
   "source": [
    "test1 = 'Remplacemetn ecran IPC'\n",
    "test2 = 'Ecran IPC figé'\n",
    "test3 = \"Perte de COM\"\n",
    "prediction(loaded_model, LONGUEUR_MAX_COMMENTAIRE,[test1,test2,test3])"
   ]
  },
  {
   "cell_type": "code",
   "execution_count": null,
   "metadata": {},
   "outputs": [
    {
     "name": "stdout",
     "output_type": "stream",
     "text": [
      "4/4 [==============================] - 4s 831ms/step\n",
      "Macro F1 Score (Multi-label): 0.6785303010092925\n"
     ]
    }
   ],
   "source": [
    "\n",
    "y_true = y_test_nlp.to_numpy().reshape(1,-1)\n",
    "y_pred = le.transform(prediction(loaded_model, LONGUEUR_MAX_COMMENTAIRE,X_test_nlp)).reshape(1,-1)\n",
    "\n",
    "\n",
    "# Flatten the multi-label data for f1_score calculation\n",
    "f1 = f1_score(y_true.ravel(), y_pred.ravel(), average='macro')\n",
    "\n",
    "print(\"Macro F1 Score (Multi-label):\", f1)"
   ]
  },
  {
   "cell_type": "code",
   "execution_count": null,
   "metadata": {},
   "outputs": [
    {
     "name": "stdout",
     "output_type": "stream",
     "text": [
      "              precision    recall  f1-score   support\n",
      "\n",
      "           0       1.00      0.33      0.50         3\n",
      "           1       0.67      0.80      0.73         5\n",
      "           2       0.58      0.58      0.58        12\n",
      "           3       1.00      0.50      0.67         4\n",
      "           4       0.45      0.83      0.59         6\n",
      "           5       0.94      0.83      0.88        18\n",
      "           6       0.75      0.86      0.80        21\n",
      "           7       0.77      0.71      0.74        14\n",
      "           8       0.60      0.50      0.55         6\n",
      "           9       0.67      0.50      0.57         4\n",
      "          10       1.00      0.50      0.67         2\n",
      "          11       1.00      1.00      1.00         3\n",
      "          12       0.50      0.50      0.50         2\n",
      "          13       0.67      0.80      0.73         5\n",
      "\n",
      "    accuracy                           0.72       105\n",
      "   macro avg       0.76      0.66      0.68       105\n",
      "weighted avg       0.75      0.72      0.72       105\n",
      "\n"
     ]
    }
   ],
   "source": [
    "\n",
    "y_true_flat = y_true.ravel()\n",
    "y_pred_flat = y_pred.ravel()\n",
    "\n",
    "# Use classification_report\n",
    "report = classification_report(y_true_flat, y_pred_flat)\n",
    "print(report)"
   ]
  }
 ],
 "metadata": {
  "kernelspec": {
   "display_name": "nlp_fail",
   "language": "python",
   "name": "python3"
  },
  "language_info": {
   "codemirror_mode": {
    "name": "ipython",
    "version": 3
   },
   "file_extension": ".py",
   "mimetype": "text/x-python",
   "name": "python",
   "nbconvert_exporter": "python",
   "pygments_lexer": "ipython3",
   "version": "3.10.13"
  }
 },
 "nbformat": 4,
 "nbformat_minor": 2
}
