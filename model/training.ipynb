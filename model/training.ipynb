{
 "cells": [
  {
   "cell_type": "markdown",
   "metadata": {},
   "source": [
    "# Import"
   ]
  },
  {
   "cell_type": "code",
   "execution_count": 25,
   "metadata": {},
   "outputs": [],
   "source": [
    "import pandas as pd\n",
    "import numpy as np\n",
    "from tensorflow import keras\n",
    "from sklearn.model_selection import train_test_split"
   ]
  },
  {
   "cell_type": "markdown",
   "metadata": {},
   "source": [
    "# Exploration"
   ]
  },
  {
   "cell_type": "code",
   "execution_count": 26,
   "metadata": {},
   "outputs": [],
   "source": [
    "df = pd.read_excel(io=\"data/historique_interventions_IA.xlsx\", sheet_name=\"liste inter CATEGORISEES LIGHT\")"
   ]
  },
  {
   "cell_type": "code",
   "execution_count": 27,
   "metadata": {},
   "outputs": [
    {
     "name": "stdout",
     "output_type": "stream",
     "text": [
      "<class 'pandas.core.frame.DataFrame'>\n",
      "RangeIndex: 599 entries, 0 to 598\n",
      "Data columns (total 4 columns):\n",
      " #   Column         Non-Null Count  Dtype \n",
      "---  ------         --------------  ----- \n",
      " 0   Description    599 non-null    object\n",
      " 1   Activity text  599 non-null    object\n",
      " 2   S-ens          598 non-null    object\n",
      " 3   CAT            256 non-null    object\n",
      "dtypes: object(4)\n",
      "memory usage: 18.8+ KB\n"
     ]
    },
    {
     "data": {
      "text/html": [
       "<div>\n",
       "<style scoped>\n",
       "    .dataframe tbody tr th:only-of-type {\n",
       "        vertical-align: middle;\n",
       "    }\n",
       "\n",
       "    .dataframe tbody tr th {\n",
       "        vertical-align: top;\n",
       "    }\n",
       "\n",
       "    .dataframe thead th {\n",
       "        text-align: right;\n",
       "    }\n",
       "</style>\n",
       "<table border=\"1\" class=\"dataframe\">\n",
       "  <thead>\n",
       "    <tr style=\"text-align: right;\">\n",
       "      <th></th>\n",
       "      <th>Description</th>\n",
       "      <th>Activity text</th>\n",
       "      <th>S-ens</th>\n",
       "      <th>CAT</th>\n",
       "    </tr>\n",
       "  </thead>\n",
       "  <tbody>\n",
       "    <tr>\n",
       "      <th>0</th>\n",
       "      <td>Surcharge convoyeur TX124</td>\n",
       "      <td>Surcharge convoyeur TX124</td>\n",
       "      <td>convoyeur principal</td>\n",
       "      <td>SURCHARGE</td>\n",
       "    </tr>\n",
       "    <tr>\n",
       "      <th>1</th>\n",
       "      <td>casse entree etoile entrée.</td>\n",
       "      <td>investigation</td>\n",
       "      <td>etoile entrée</td>\n",
       "      <td>NaN</td>\n",
       "    </tr>\n",
       "    <tr>\n",
       "      <th>2</th>\n",
       "      <td>Mauvais bouchonnage</td>\n",
       "      <td>Mauvais bouchonnage</td>\n",
       "      <td>poste bouchonnage</td>\n",
       "      <td>BOUCHONNAGE</td>\n",
       "    </tr>\n",
       "    <tr>\n",
       "      <th>3</th>\n",
       "      <td>presence bavure sur un format</td>\n",
       "      <td>bavure</td>\n",
       "      <td>format</td>\n",
       "      <td>NaN</td>\n",
       "    </tr>\n",
       "    <tr>\n",
       "      <th>4</th>\n",
       "      <td>Mauvais bouchonnage</td>\n",
       "      <td>Mauvais bouchonnage</td>\n",
       "      <td>poste bouchonnage</td>\n",
       "      <td>BOUCHONNAGE</td>\n",
       "    </tr>\n",
       "    <tr>\n",
       "      <th>5</th>\n",
       "      <td>pas d amener bouchon suite doublons</td>\n",
       "      <td>controle et reglage</td>\n",
       "      <td>poste bouchonnage</td>\n",
       "      <td>ACHEMINEMENT BOUCHONS</td>\n",
       "    </tr>\n",
       "    <tr>\n",
       "      <th>6</th>\n",
       "      <td>PB TREMIE BOUCHON</td>\n",
       "      <td>PB TREMIE BOUCHON</td>\n",
       "      <td>tremie</td>\n",
       "      <td>NaN</td>\n",
       "    </tr>\n",
       "    <tr>\n",
       "      <th>7</th>\n",
       "      <td>PB CELLULE FLACON COUCHE</td>\n",
       "      <td>PB CELLULE</td>\n",
       "      <td>cellules</td>\n",
       "      <td>FLACONS COUCHES</td>\n",
       "    </tr>\n",
       "    <tr>\n",
       "      <th>8</th>\n",
       "      <td>instabilité balance IPC Gross</td>\n",
       "      <td>Investigation</td>\n",
       "      <td>IPC</td>\n",
       "      <td>BALANCE</td>\n",
       "    </tr>\n",
       "    <tr>\n",
       "      <th>9</th>\n",
       "      <td>Mauvaise detection presence bouchon</td>\n",
       "      <td>Mauvaise detection presence bouchon</td>\n",
       "      <td>poste bouchonnage</td>\n",
       "      <td>DETECTION BOUCHON</td>\n",
       "    </tr>\n",
       "  </tbody>\n",
       "</table>\n",
       "</div>"
      ],
      "text/plain": [
       "                           Description                        Activity text  \\\n",
       "0            Surcharge convoyeur TX124            Surcharge convoyeur TX124   \n",
       "1          casse entree etoile entrée.                        investigation   \n",
       "2                  Mauvais bouchonnage                  Mauvais bouchonnage   \n",
       "3        presence bavure sur un format                               bavure   \n",
       "4                  Mauvais bouchonnage                  Mauvais bouchonnage   \n",
       "5  pas d amener bouchon suite doublons                  controle et reglage   \n",
       "6                    PB TREMIE BOUCHON                    PB TREMIE BOUCHON   \n",
       "7             PB CELLULE FLACON COUCHE                           PB CELLULE   \n",
       "8        instabilité balance IPC Gross                        Investigation   \n",
       "9  Mauvaise detection presence bouchon  Mauvaise detection presence bouchon   \n",
       "\n",
       "                  S-ens                    CAT  \n",
       "0  convoyeur principal               SURCHARGE  \n",
       "1         etoile entrée                    NaN  \n",
       "2     poste bouchonnage           BOUCHONNAGE   \n",
       "3                format                    NaN  \n",
       "4     poste bouchonnage           BOUCHONNAGE   \n",
       "5     poste bouchonnage  ACHEMINEMENT BOUCHONS  \n",
       "6               tremie                     NaN  \n",
       "7             cellules         FLACONS COUCHES  \n",
       "8                   IPC                BALANCE  \n",
       "9     poste bouchonnage      DETECTION BOUCHON  "
      ]
     },
     "execution_count": 27,
     "metadata": {},
     "output_type": "execute_result"
    }
   ],
   "source": [
    "df.info()\n",
    "df.head(10)"
   ]
  },
  {
   "cell_type": "code",
   "execution_count": 28,
   "metadata": {},
   "outputs": [
    {
     "data": {
      "text/plain": [
       "Index(['Description', 'Activity text', 'S-ens', 'CAT'], dtype='object')"
      ]
     },
     "execution_count": 28,
     "metadata": {},
     "output_type": "execute_result"
    }
   ],
   "source": [
    "df.columns"
   ]
  },
  {
   "cell_type": "code",
   "execution_count": 29,
   "metadata": {},
   "outputs": [
    {
     "data": {
      "text/plain": [
       "Index(['description', 'activity_text', 's-ens', 'cat'], dtype='object')"
      ]
     },
     "execution_count": 29,
     "metadata": {},
     "output_type": "execute_result"
    }
   ],
   "source": [
    "df.columns = [title.lower().replace(\" \", \"_\") for title in df.columns]\n",
    "df.columns"
   ]
  },
  {
   "cell_type": "code",
   "execution_count": 30,
   "metadata": {},
   "outputs": [
    {
     "data": {
      "text/plain": [
       "array(['convoyeur principal ', 'etoile entrée', 'poste bouchonnage',\n",
       "       'format', 'tremie ', 'cellules ', 'IPC', 'HMI', 'bol bouchon',\n",
       "       'table tournante', 'communication', 'vis sans fin', 'climet',\n",
       "       'poste remplissage', 'roue entrée', 'ipc', 'pesée',\n",
       "       'servo commande', 'hmi', 'autom', 'barre ionisante',\n",
       "       'convoyeur entrée', 'tiroir', 'jog', 'tapis entrée',\n",
       "       'roue sortie ', 'porte', 'soufflet', 'bi', 'courroie', 'EV',\n",
       "       'CUVE BOUCHONS', nan, 'BI'], dtype=object)"
      ]
     },
     "execution_count": 30,
     "metadata": {},
     "output_type": "execute_result"
    }
   ],
   "source": [
    "df['s-ens'].unique()"
   ]
  },
  {
   "cell_type": "code",
   "execution_count": 31,
   "metadata": {},
   "outputs": [],
   "source": [
    "df['s-ens_cleaned'] = df['s-ens'].str.lower()\n",
    "df = df[['description','s-ens_cleaned']]\n",
    "df.dropna(inplace=True)\n",
    "df.columns = ['description', \"labels\"]"
   ]
  },
  {
   "cell_type": "code",
   "execution_count": 32,
   "metadata": {},
   "outputs": [
    {
     "data": {
      "text/html": [
       "<div>\n",
       "<style scoped>\n",
       "    .dataframe tbody tr th:only-of-type {\n",
       "        vertical-align: middle;\n",
       "    }\n",
       "\n",
       "    .dataframe tbody tr th {\n",
       "        vertical-align: top;\n",
       "    }\n",
       "\n",
       "    .dataframe thead th {\n",
       "        text-align: right;\n",
       "    }\n",
       "</style>\n",
       "<table border=\"1\" class=\"dataframe\">\n",
       "  <thead>\n",
       "    <tr style=\"text-align: right;\">\n",
       "      <th></th>\n",
       "      <th>labels</th>\n",
       "      <th>description</th>\n",
       "    </tr>\n",
       "  </thead>\n",
       "  <tbody>\n",
       "    <tr>\n",
       "      <th>0</th>\n",
       "      <td>autom</td>\n",
       "      <td>13</td>\n",
       "    </tr>\n",
       "    <tr>\n",
       "      <th>1</th>\n",
       "      <td>barre ionisante</td>\n",
       "      <td>3</td>\n",
       "    </tr>\n",
       "    <tr>\n",
       "      <th>2</th>\n",
       "      <td>bi</td>\n",
       "      <td>5</td>\n",
       "    </tr>\n",
       "    <tr>\n",
       "      <th>3</th>\n",
       "      <td>bol bouchon</td>\n",
       "      <td>25</td>\n",
       "    </tr>\n",
       "    <tr>\n",
       "      <th>4</th>\n",
       "      <td>cellules</td>\n",
       "      <td>61</td>\n",
       "    </tr>\n",
       "    <tr>\n",
       "      <th>5</th>\n",
       "      <td>climet</td>\n",
       "      <td>6</td>\n",
       "    </tr>\n",
       "    <tr>\n",
       "      <th>6</th>\n",
       "      <td>communication</td>\n",
       "      <td>18</td>\n",
       "    </tr>\n",
       "    <tr>\n",
       "      <th>7</th>\n",
       "      <td>convoyeur entrée</td>\n",
       "      <td>9</td>\n",
       "    </tr>\n",
       "    <tr>\n",
       "      <th>8</th>\n",
       "      <td>convoyeur principal</td>\n",
       "      <td>30</td>\n",
       "    </tr>\n",
       "    <tr>\n",
       "      <th>9</th>\n",
       "      <td>courroie</td>\n",
       "      <td>1</td>\n",
       "    </tr>\n",
       "    <tr>\n",
       "      <th>10</th>\n",
       "      <td>cuve bouchons</td>\n",
       "      <td>1</td>\n",
       "    </tr>\n",
       "    <tr>\n",
       "      <th>11</th>\n",
       "      <td>etoile entrée</td>\n",
       "      <td>1</td>\n",
       "    </tr>\n",
       "    <tr>\n",
       "      <th>12</th>\n",
       "      <td>ev</td>\n",
       "      <td>5</td>\n",
       "    </tr>\n",
       "    <tr>\n",
       "      <th>13</th>\n",
       "      <td>format</td>\n",
       "      <td>10</td>\n",
       "    </tr>\n",
       "    <tr>\n",
       "      <th>14</th>\n",
       "      <td>hmi</td>\n",
       "      <td>90</td>\n",
       "    </tr>\n",
       "    <tr>\n",
       "      <th>15</th>\n",
       "      <td>ipc</td>\n",
       "      <td>103</td>\n",
       "    </tr>\n",
       "    <tr>\n",
       "      <th>16</th>\n",
       "      <td>jog</td>\n",
       "      <td>4</td>\n",
       "    </tr>\n",
       "    <tr>\n",
       "      <th>17</th>\n",
       "      <td>pesée</td>\n",
       "      <td>9</td>\n",
       "    </tr>\n",
       "    <tr>\n",
       "      <th>18</th>\n",
       "      <td>porte</td>\n",
       "      <td>1</td>\n",
       "    </tr>\n",
       "    <tr>\n",
       "      <th>19</th>\n",
       "      <td>poste bouchonnage</td>\n",
       "      <td>67</td>\n",
       "    </tr>\n",
       "    <tr>\n",
       "      <th>20</th>\n",
       "      <td>poste remplissage</td>\n",
       "      <td>28</td>\n",
       "    </tr>\n",
       "    <tr>\n",
       "      <th>21</th>\n",
       "      <td>roue entrée</td>\n",
       "      <td>8</td>\n",
       "    </tr>\n",
       "    <tr>\n",
       "      <th>22</th>\n",
       "      <td>roue sortie</td>\n",
       "      <td>22</td>\n",
       "    </tr>\n",
       "    <tr>\n",
       "      <th>23</th>\n",
       "      <td>servo commande</td>\n",
       "      <td>11</td>\n",
       "    </tr>\n",
       "    <tr>\n",
       "      <th>24</th>\n",
       "      <td>soufflet</td>\n",
       "      <td>7</td>\n",
       "    </tr>\n",
       "    <tr>\n",
       "      <th>25</th>\n",
       "      <td>table tournante</td>\n",
       "      <td>17</td>\n",
       "    </tr>\n",
       "    <tr>\n",
       "      <th>26</th>\n",
       "      <td>tapis entrée</td>\n",
       "      <td>5</td>\n",
       "    </tr>\n",
       "    <tr>\n",
       "      <th>27</th>\n",
       "      <td>tiroir</td>\n",
       "      <td>2</td>\n",
       "    </tr>\n",
       "    <tr>\n",
       "      <th>28</th>\n",
       "      <td>tremie</td>\n",
       "      <td>12</td>\n",
       "    </tr>\n",
       "    <tr>\n",
       "      <th>29</th>\n",
       "      <td>vis sans fin</td>\n",
       "      <td>24</td>\n",
       "    </tr>\n",
       "  </tbody>\n",
       "</table>\n",
       "</div>"
      ],
      "text/plain": [
       "                  labels  description\n",
       "0                  autom           13\n",
       "1        barre ionisante            3\n",
       "2                     bi            5\n",
       "3            bol bouchon           25\n",
       "4              cellules            61\n",
       "5                 climet            6\n",
       "6          communication           18\n",
       "7       convoyeur entrée            9\n",
       "8   convoyeur principal            30\n",
       "9               courroie            1\n",
       "10         cuve bouchons            1\n",
       "11         etoile entrée            1\n",
       "12                    ev            5\n",
       "13                format           10\n",
       "14                   hmi           90\n",
       "15                   ipc          103\n",
       "16                   jog            4\n",
       "17                 pesée            9\n",
       "18                 porte            1\n",
       "19     poste bouchonnage           67\n",
       "20     poste remplissage           28\n",
       "21           roue entrée            8\n",
       "22          roue sortie            22\n",
       "23        servo commande           11\n",
       "24              soufflet            7\n",
       "25       table tournante           17\n",
       "26          tapis entrée            5\n",
       "27                tiroir            2\n",
       "28               tremie            12\n",
       "29          vis sans fin           24"
      ]
     },
     "metadata": {},
     "output_type": "display_data"
    }
   ],
   "source": [
    "count = df.groupby('labels').count().reset_index()\n",
    "\n",
    "\n",
    "nb_min_to_keep = 10 \n",
    "\n",
    "result = count[count['description'] > nb_min_to_keep]\n",
    "result['labels']\n",
    "nb_targets = result['labels'].nunique()\n",
    "display(count)"
   ]
  },
  {
   "cell_type": "code",
   "execution_count": 33,
   "metadata": {},
   "outputs": [],
   "source": [
    "# mask_divers = df['labels'].isin(result['labels'])\n",
    "df_cleaned = df[df['labels'].isin(result['labels'])]"
   ]
  },
  {
   "cell_type": "markdown",
   "metadata": {},
   "source": [
    "# Modelisation"
   ]
  },
  {
   "cell_type": "code",
   "execution_count": 34,
   "metadata": {},
   "outputs": [
    {
     "name": "stderr",
     "output_type": "stream",
     "text": [
      "/tmp/ipykernel_35094/1919040034.py:7: SettingWithCopyWarning: \n",
      "A value is trying to be set on a copy of a slice from a DataFrame.\n",
      "Try using .loc[row_indexer,col_indexer] = value instead\n",
      "\n",
      "See the caveats in the documentation: https://pandas.pydata.org/pandas-docs/stable/user_guide/indexing.html#returning-a-view-versus-a-copy\n",
      "  df_cleaned['labels_encoded'] = le.fit_transform(df_cleaned['labels'])\n"
     ]
    }
   ],
   "source": [
    "from sklearn.preprocessing import LabelEncoder\n",
    "\n",
    "# Création de l'encodeur\n",
    "le = LabelEncoder()\n",
    "\n",
    "# Entraînement de l'encodeur et transformation des labels\n",
    "df_cleaned['labels_encoded'] = le.fit_transform(df_cleaned['labels'])\n",
    "\n",
    "y = df_cleaned['labels_encoded']\n",
    "\n",
    "X_train_nlp, X_test_nlp, y_train_nlp, y_test_nlp = train_test_split(np.array(df_cleaned['description']), y,\n",
    "                                                   test_size=0.2,\n",
    "                                                   random_state = 0,\n",
    "                                                   stratify = y,\n",
    "                                                   shuffle=True)"
   ]
  },
  {
   "cell_type": "code",
   "execution_count": 35,
   "metadata": {},
   "outputs": [
    {
     "data": {
      "text/plain": [
       "0       4\n",
       "2       7\n",
       "4       7\n",
       "5       7\n",
       "6      12\n",
       "       ..\n",
       "592     5\n",
       "593     5\n",
       "594     5\n",
       "596     7\n",
       "597     7\n",
       "Name: labels_encoded, Length: 521, dtype: int64"
      ]
     },
     "execution_count": 35,
     "metadata": {},
     "output_type": "execute_result"
    }
   ],
   "source": [
    "y"
   ]
  },
  {
   "cell_type": "code",
   "execution_count": 36,
   "metadata": {},
   "outputs": [
    {
     "data": {
      "text/plain": [
       "0       True\n",
       "1      False\n",
       "2       True\n",
       "3      False\n",
       "4       True\n",
       "       ...  \n",
       "594     True\n",
       "595    False\n",
       "596     True\n",
       "597     True\n",
       "598    False\n",
       "Name: labels, Length: 598, dtype: bool"
      ]
     },
     "execution_count": 36,
     "metadata": {},
     "output_type": "execute_result"
    }
   ],
   "source": [
    "df['labels'].isin(result['labels'])"
   ]
  },
  {
   "cell_type": "code",
   "execution_count": 37,
   "metadata": {},
   "outputs": [
    {
     "name": "stderr",
     "output_type": "stream",
     "text": [
      "Some layers from the model checkpoint at jplu/tf-camembert-base were not used when initializing TFCamembertModel: ['lm_head']\n",
      "- This IS expected if you are initializing TFCamembertModel from the checkpoint of a model trained on another task or with another architecture (e.g. initializing a BertForSequenceClassification model from a BertForPreTraining model).\n",
      "- This IS NOT expected if you are initializing TFCamembertModel from the checkpoint of a model that you expect to be exactly identical (initializing a BertForSequenceClassification model from a BertForSequenceClassification model).\n",
      "All the layers of TFCamembertModel were initialized from the model checkpoint at jplu/tf-camembert-base.\n",
      "If your task is similar to the task the model of the checkpoint was trained on, you can already use TFCamembertModel for predictions without further training.\n"
     ]
    }
   ],
   "source": [
    "import tensorflow as tf\n",
    "from transformers import TFCamembertModel, CamembertTokenizer, CamembertConfig,TFBertModel\n",
    "from tensorflow.keras.layers import Input, Dense \n",
    "from tensorflow.keras.models import Model\n",
    "\n",
    "\n",
    "\n",
    "tokenizer = CamembertTokenizer.from_pretrained(\"jplu/tf-camembert-base\")\n",
    "bert_model = TFCamembertModel.from_pretrained(\"jplu/tf-camembert-base\")\n",
    "for layer in bert_model.layers:\n",
    "    layer.trainable = False\n",
    "\n",
    "max_seq_length = 32\n",
    "\n",
    "text_input = Input(shape=(max_seq_length,), dtype=tf.int32, name=\"text_input\")\n",
    "# attention_mask = Input(shape=(max_seq_length,), name='attention_mask_cam', dtype='int32')\n",
    "embedding_layer = bert_model(text_input)[0]\n",
    "bert_output = embedding_layer[:, 0, :]\n",
    "output = Dense(nb_targets, activation=\"softmax\")(bert_output)\n",
    "\n",
    "model = Model(inputs=text_input, outputs=output)\n",
    "\n",
    "\n",
    "model.compile(optimizer=\"adam\", loss=\"sparse_categorical_crossentropy\", metrics=[\"accuracy\"])\n",
    "\n",
    "\n",
    "def encode_texts(texts, tokenizer, max_seq_length):\n",
    "    input_ids = []\n",
    "    for text in texts:\n",
    "        encoded = tokenizer(text, return_tensors=\"tf\", truncation=True, padding=\"max_length\", max_length=max_seq_length)\n",
    "        input_ids.append(encoded[\"input_ids\"][0])\n",
    "    return np.array(input_ids)\n",
    "\n",
    "X_train_nlp_encoded = encode_texts(X_train_nlp, tokenizer, max_seq_length=max_seq_length)\n",
    "X_test_nlp_encoded = encode_texts(X_test_nlp, tokenizer, max_seq_length=max_seq_length)"
   ]
  },
  {
   "cell_type": "code",
   "execution_count": 38,
   "metadata": {},
   "outputs": [],
   "source": [
    "early = keras.callbacks.EarlyStopping(monitor='val_loss', patience=5, restore_best_weights=True)"
   ]
  },
  {
   "cell_type": "code",
   "execution_count": 39,
   "metadata": {},
   "outputs": [
    {
     "data": {
      "text/plain": [
       "(416,)"
      ]
     },
     "execution_count": 39,
     "metadata": {},
     "output_type": "execute_result"
    }
   ],
   "source": [
    "X_train_nlp.shape"
   ]
  },
  {
   "cell_type": "code",
   "execution_count": 40,
   "metadata": {},
   "outputs": [
    {
     "data": {
      "text/plain": [
       "(416,)"
      ]
     },
     "execution_count": 40,
     "metadata": {},
     "output_type": "execute_result"
    }
   ],
   "source": [
    "y_train_nlp.shape"
   ]
  },
  {
   "cell_type": "code",
   "execution_count": 41,
   "metadata": {},
   "outputs": [
    {
     "name": "stdout",
     "output_type": "stream",
     "text": [
      "12/12 [==============================] - 14s 692ms/step - loss: 2.5408 - accuracy: 0.1791 - val_loss: 2.4801 - val_accuracy: 0.2143\n"
     ]
    }
   ],
   "source": [
    "# Entraînement du modèle\n",
    "history_db = model.fit(\n",
    "\tx=X_train_nlp_encoded, y=y_train_nlp,  batch_size=32, epochs=1, verbose='auto',\n",
    "    callbacks=[early], validation_split=0.1, shuffle=True,\n",
    "    class_weight=None, sample_weight=None, initial_epoch=0, steps_per_epoch=None,\n",
    "    validation_steps=None, validation_batch_size=32, validation_freq=1, max_queue_size=10, workers=1, use_multiprocessing=False)"
   ]
  },
  {
   "cell_type": "code",
   "execution_count": 77,
   "metadata": {},
   "outputs": [],
   "source": [
    "test1 = 'defaut de com ipc'\n",
    "test2 = 'blabla hmi cassé'\n",
    "\n",
    "def prediction(model, max_seq_length, *args) :\n",
    "    texts = list(*args)\n",
    "    to_test = encode_texts(texts=texts, tokenizer=tokenizer, max_seq_length=max_seq_length)\n",
    "    proba = model.predict(to_test)\n",
    "    indexes = np.argmax(proba, axis=1)\n",
    "    return le.inverse_transform(indexes)\n"
   ]
  },
  {
   "cell_type": "code",
   "execution_count": 78,
   "metadata": {},
   "outputs": [
    {
     "name": "stdout",
     "output_type": "stream",
     "text": [
      "1/1 [==============================] - 0s 79ms/step\n"
     ]
    },
    {
     "data": {
      "text/plain": [
       "array(['ipc', 'ipc'], dtype=object)"
      ]
     },
     "execution_count": 78,
     "metadata": {},
     "output_type": "execute_result"
    }
   ],
   "source": [
    "prediction(model, max_seq_length, [test1,test2])"
   ]
  },
  {
   "cell_type": "code",
   "execution_count": 65,
   "metadata": {},
   "outputs": [],
   "source": [
    "# model.save_weights('saved_model/weights')"
   ]
  },
  {
   "cell_type": "code",
   "execution_count": 66,
   "metadata": {},
   "outputs": [
    {
     "name": "stderr",
     "output_type": "stream",
     "text": [
      "/home/jeremy/Documents/projects/machine-failure-classier/venv/lib/python3.9/site-packages/transformers/generation/tf_utils.py:465: UserWarning: `seed_generator` is deprecated and will be removed in a future version.\n",
      "  warnings.warn(\"`seed_generator` is deprecated and will be removed in a future version.\", UserWarning)\n"
     ]
    }
   ],
   "source": [
    "model.save('saved_model/test.keras')"
   ]
  },
  {
   "cell_type": "code",
   "execution_count": 67,
   "metadata": {},
   "outputs": [
    {
     "name": "stderr",
     "output_type": "stream",
     "text": [
      "WARNING:absl:Skipping variable loading for optimizer 'Adam', because it has 403 variables whereas the saved optimizer has 5 variables. \n"
     ]
    }
   ],
   "source": [
    "from tensorflow.keras.models import load_model\n",
    "from tensorflow.keras.utils import custom_object_scope\n",
    "\n",
    "with custom_object_scope({'TFCamembertModel': TFCamembertModel}):\n",
    "    model2 = load_model('saved_model/test.keras')"
   ]
  },
  {
   "cell_type": "code",
   "execution_count": 79,
   "metadata": {},
   "outputs": [
    {
     "name": "stdout",
     "output_type": "stream",
     "text": [
      "1/1 [==============================] - 2s 2s/step\n"
     ]
    },
    {
     "data": {
      "text/plain": [
       "array(['ipc', 'ipc'], dtype=object)"
      ]
     },
     "execution_count": 79,
     "metadata": {},
     "output_type": "execute_result"
    }
   ],
   "source": [
    "prediction(model2, max_seq_length, [test1,test2])"
   ]
  },
  {
   "cell_type": "code",
   "execution_count": null,
   "metadata": {},
   "outputs": [],
   "source": []
  },
  {
   "cell_type": "code",
   "execution_count": null,
   "metadata": {},
   "outputs": [],
   "source": []
  }
 ],
 "metadata": {
  "kernelspec": {
   "display_name": "venv",
   "language": "python",
   "name": "python3"
  },
  "language_info": {
   "codemirror_mode": {
    "name": "ipython",
    "version": 3
   },
   "file_extension": ".py",
   "mimetype": "text/x-python",
   "name": "python",
   "nbconvert_exporter": "python",
   "pygments_lexer": "ipython3",
   "version": "3.9.12"
  }
 },
 "nbformat": 4,
 "nbformat_minor": 2
}
